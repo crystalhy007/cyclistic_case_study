{
 "cells": [
  {
   "cell_type": "markdown",
   "id": "88d08b92-39bc-4cf1-906f-f540188b3dde",
   "metadata": {},
   "source": [
    "# Cyclistic Case Study"
   ]
  },
  {
   "cell_type": "code",
   "execution_count": null,
   "id": "36bc8701-2a8e-4216-a660-b6c37fd1705f",
   "metadata": {},
   "outputs": [],
   "source": [
    "# Load packages\n",
    "import pandas as pd\n",
    "import numpy as np\n",
    "import glob\n",
    "import datetime as dt\n",
    "from haversine import haversine, Unit\n",
    "import seaborn as sns\n",
    "import matplotlib.pyplot as plt"
   ]
  },
  {
   "cell_type": "code",
   "execution_count": null,
   "id": "862acea6-c15f-42a7-96c0-c43ff001d118",
   "metadata": {},
   "outputs": [],
   "source": [
    "# Get a list of all CSV files in the directory\n",
    "csv_files = glob.glob(\"*.csv\")\n",
    "\n",
    "# Create an empty dataframe to store the combined data\n",
    "combined_df = pd.DataFrame()\n",
    "\n",
    "# Loop through each CSV file\n",
    "for csv_file in csv_files:\n",
    "    # Read the CSV file into a dataframe\n",
    "    df = pd.read_csv(csv_file)\n",
    "\n",
    "    # Append the dataframe to the combined dataframe\n",
    "    combined_df = pd.concat([combined_df, df], ignore_index=True)\n",
    "\n",
    "# Print the combined dataframe\n",
    "print(combined_df)"
   ]
  },
  {
   "cell_type": "code",
   "execution_count": null,
   "id": "c2566553-75f1-4d0d-98e1-fb026a209591",
   "metadata": {},
   "outputs": [],
   "source": [
    "combined_df.head()"
   ]
  },
  {
   "cell_type": "code",
   "execution_count": null,
   "id": "c51443d1-953a-4e0c-94fe-f31b380a74a1",
   "metadata": {},
   "outputs": [],
   "source": [
    "combined_df.info()"
   ]
  },
  {
   "cell_type": "markdown",
   "id": "095065f6-1609-4dc4-9fed-1c1b0a1aaecf",
   "metadata": {},
   "source": [
    "## Data clean\n",
    "1. Remove duplicates\n",
    "2. Data type: datetime\n",
    "3. Missing value\n",
    "4. Error: negative duration / distance\n",
    "5. Outliers: extremely small or large"
   ]
  },
  {
   "cell_type": "code",
   "execution_count": null,
   "id": "cbaa0d7f-cd99-4868-a396-c39f6876fd7e",
   "metadata": {},
   "outputs": [],
   "source": [
    "# ride_id is the primary key. \n",
    "# Each row represents a single ride\n",
    "# Remove any duplicative rides\n",
    "rides = combined_df.drop_duplicates()"
   ]
  },
  {
   "cell_type": "code",
   "execution_count": null,
   "id": "c280e989-26ab-419f-b527-e6ab77d12fd2",
   "metadata": {},
   "outputs": [],
   "source": [
    "# convert to datetime\n",
    "# using mixed format: '%Y-%m-%d %H:%M:%S.%f' '%Y-%m-%d %H:%M:%S'\n",
    "rides['started_at'] = pd.to_datetime(rides['started_at'],format='mixed') \n",
    "rides['ended_at'] = pd.to_datetime(rides['ended_at'],format='mixed') "
   ]
  },
  {
   "cell_type": "code",
   "execution_count": null,
   "id": "571b09f1-112f-42d2-b871-592b30320250",
   "metadata": {},
   "outputs": [],
   "source": [
    "# Check columns with missing value\n",
    "col_with_na = rides.isna().any()\n",
    "col_with_na \n",
    "# Both start and end station have missing value \n",
    "# However the start lat and lng don't. It can provide information of the start point.\n",
    "# We can focus on clean the end lat and lng."
   ]
  },
  {
   "cell_type": "code",
   "execution_count": null,
   "id": "ee52b4c5-d41f-4e9d-9450-db95066f54bf",
   "metadata": {},
   "outputs": [],
   "source": [
    "end_lat_lng = rides[['end_lat','end_lng']]\n",
    "end_lat_lng[end_lat_lng.isna().any(axis=1)] \n",
    "# 7441 records. 0.1 percent of the whole dataset\n",
    "# It is ok to remove the missing data. 7441/5854544 "
   ]
  },
  {
   "cell_type": "code",
   "execution_count": null,
   "id": "107c0285-44eb-4543-8619-8040cc6276b8",
   "metadata": {},
   "outputs": [],
   "source": [
    "# Remove na\n",
    "rides = rides.dropna(subset=['end_lat','end_lng'])"
   ]
  },
  {
   "cell_type": "code",
   "execution_count": null,
   "id": "48fe6a2b-dbf4-42c1-b3d1-20f4de70b834",
   "metadata": {},
   "outputs": [],
   "source": [
    "# Calculate duration\n",
    "rides['duration_m'] = round((rides['ended_at']-rides['started_at']).dt.total_seconds()/60,2)"
   ]
  },
  {
   "cell_type": "code",
   "execution_count": null,
   "id": "dad384a6-bc18-4dd2-ab6e-d3b1210f283d",
   "metadata": {},
   "outputs": [],
   "source": [
    "# check how many durations are below 0 \n",
    "sum(rides['duration_m']<=0)"
   ]
  },
  {
   "cell_type": "code",
   "execution_count": null,
   "id": "fdb53ebd-b64d-4eb9-a9cf-e3f9f5d7437e",
   "metadata": {},
   "outputs": [],
   "source": [
    "# duration should be postive\n",
    "rides = rides[rides['duration_m'] > 0]"
   ]
  },
  {
   "cell_type": "code",
   "execution_count": null,
   "id": "d468532a-24c6-40b0-8f12-29df296d5eb9",
   "metadata": {},
   "outputs": [],
   "source": [
    "# get month of the date\n",
    "rides['month'] = rides['started_at'].dt.month "
   ]
  },
  {
   "cell_type": "code",
   "execution_count": null,
   "id": "69c85cac-7113-4866-a323-a303779e3bc2",
   "metadata": {},
   "outputs": [],
   "source": [
    "# get weekday of the date\n",
    "rides['weekday'] = rides['started_at'].dt.day_name()\n",
    "rides.head()"
   ]
  },
  {
   "cell_type": "code",
   "execution_count": null,
   "id": "d1a22374-2d4a-4e8c-a2ae-f969911fc7c8",
   "metadata": {},
   "outputs": [],
   "source": [
    "# distance isn't the key to identify how far they ride the bike.\n",
    "# because distance can be 0. Users can return the bike to the original station.\n",
    "# It helps identfiy outliers."
   ]
  },
  {
   "cell_type": "code",
   "execution_count": null,
   "id": "e2144fcb-1b9e-469b-b09e-5da33c541e59",
   "metadata": {},
   "outputs": [],
   "source": [
    "def calculate_distance(rides):\n",
    "    coords_1 = (rides['start_lat'],rides['start_lng'])\n",
    "    coords_2 = (rides['end_lat'],rides['end_lng'])\n",
    "    return haversine(coords_1, coords_2, unit=Unit.MILES)"
   ]
  },
  {
   "cell_type": "code",
   "execution_count": null,
   "id": "80c43cd7-ed33-49fc-870f-180dd58e7f52",
   "metadata": {},
   "outputs": [],
   "source": [
    "rides['distance'] = rides.apply(calculate_distance, axis=1)"
   ]
  },
  {
   "cell_type": "code",
   "execution_count": null,
   "id": "9e4c4812-00e0-4573-8329-42403c15467f",
   "metadata": {},
   "outputs": [],
   "source": [
    "# Outliers\n",
    "# dataset shape \n",
    "rides.shape"
   ]
  },
  {
   "cell_type": "code",
   "execution_count": null,
   "id": "093e98fe-21ef-4eaf-9ed0-d68fdd955cde",
   "metadata": {},
   "outputs": [],
   "source": [
    "# max of duration is over 24 hours. \n",
    "# the potential reasons: 1. system error 2. user forgot to return the bike 3. user couldn't find a place to return.\n",
    "rides['duration_m'].agg(['min','mean','max'])"
   ]
  },
  {
   "cell_type": "code",
   "execution_count": null,
   "id": "f3ee1360-58cf-4012-a1ce-e7551e8ab6af",
   "metadata": {},
   "outputs": [],
   "source": [
    "rides['duration_m'].describe()"
   ]
  },
  {
   "cell_type": "code",
   "execution_count": null,
   "id": "f29ffa47-f0f1-4faf-b932-b347a0a08674",
   "metadata": {},
   "outputs": [],
   "source": [
    "# calculate IQR to identify outliers\n",
    "du_q1 = rides['duration_m'].describe().iloc[4]\n",
    "du_q3 = rides['duration_m'].describe().iloc[6]"
   ]
  },
  {
   "cell_type": "code",
   "execution_count": null,
   "id": "4b45ad5b-03a9-4823-af0c-fc0b765ea359",
   "metadata": {},
   "outputs": [],
   "source": [
    "iqr_du = du_q3 - du_q1\n",
    "upper_du = du_q3+1.5*iqr_du\n",
    "lower_du = du_q1-1.5*iqr_du\n",
    "print(upper_du)\n",
    "print(lower_du)"
   ]
  },
  {
   "cell_type": "code",
   "execution_count": null,
   "id": "23ef1188-ddd5-4050-924d-d025cfdcbb17",
   "metadata": {},
   "outputs": [],
   "source": [
    "# check under each criteria, how much data will be identified as outliers\n",
    "# 120min: 35370/5846014 0.6%\n",
    "# 60min: 144319/5846014 2%\n",
    "# upper_du: 435825/5846014 7%"
   ]
  },
  {
   "cell_type": "code",
   "execution_count": null,
   "id": "c1383dc9-2c29-4770-8107-a116e6212554",
   "metadata": {},
   "outputs": [],
   "source": [
    "rd_iqr = rides[rides['duration_m'] <= upper_du]"
   ]
  },
  {
   "cell_type": "code",
   "execution_count": null,
   "id": "831ea373-f93d-4f39-ab78-79bb6604313b",
   "metadata": {},
   "outputs": [],
   "source": [
    "sns.histplot(data=rd_iqr, x=\"duration_m\",binwidth=3)"
   ]
  },
  {
   "cell_type": "code",
   "execution_count": null,
   "id": "60019de6-1569-49f4-8fe1-f84269203229",
   "metadata": {},
   "outputs": [],
   "source": [
    "rd_60 = rides[rides['duration_m'] <= 60]"
   ]
  },
  {
   "cell_type": "code",
   "execution_count": null,
   "id": "9430a8b6-51db-4e1c-95a4-d970d236c311",
   "metadata": {},
   "outputs": [],
   "source": [
    "sns.histplot(data=rd_60, x=\"duration_m\",binwidth=3)"
   ]
  },
  {
   "cell_type": "code",
   "execution_count": null,
   "id": "9e13cc1e-40be-47ff-b050-a405d65b4c78",
   "metadata": {},
   "outputs": [],
   "source": [
    "rd_120 = rides[rides['duration_m'] <= 120]"
   ]
  },
  {
   "cell_type": "code",
   "execution_count": null,
   "id": "7620369f-18fa-4f68-9a1e-f9e7e9758e69",
   "metadata": {},
   "outputs": [],
   "source": [
    "sns.histplot(data=rd_120, x=\"duration_m\",binwidth=3)"
   ]
  },
  {
   "cell_type": "code",
   "execution_count": null,
   "id": "faaddcd8-5aa8-44c1-a37e-ee7310f94cc5",
   "metadata": {},
   "outputs": [],
   "source": [
    "# max of distance is over 3000 miles, which is not reasonable\n",
    "rides['distance'].agg(['min','mean','max'])"
   ]
  },
  {
   "cell_type": "code",
   "execution_count": null,
   "id": "22dd3a3a-c26e-420e-9b85-65ca0452e5d8",
   "metadata": {},
   "outputs": [],
   "source": [
    "rides['distance'].describe()"
   ]
  },
  {
   "cell_type": "code",
   "execution_count": null,
   "id": "f762a810-ac5d-49a3-b8b6-3c56622cc3dd",
   "metadata": {},
   "outputs": [],
   "source": [
    "# IQR\n",
    "di_q1 = rides['distance'].describe().iloc[4]\n",
    "di_q3 = rides['distance'].describe().iloc[6]"
   ]
  },
  {
   "cell_type": "code",
   "execution_count": null,
   "id": "522bfa53-7610-4b3e-b23f-c4717011337e",
   "metadata": {},
   "outputs": [],
   "source": [
    "iqr_di = di_q3 - di_q1\n",
    "upper_di = di_q3+1.5*iqr_di\n",
    "lower_di = di_q1-1.5*iqr_di\n",
    "print(upper_di)\n",
    "print(lower_di)"
   ]
  },
  {
   "cell_type": "code",
   "execution_count": null,
   "id": "67cc459c-df55-4563-abcb-372327f31377",
   "metadata": {},
   "outputs": [],
   "source": [
    "# check minutes per mile to identify reasonable data range\n",
    "# expert biker rides 2 minutes per mile \n",
    "rides['min/mile'] = rides['duration_m']/rides['distance']"
   ]
  },
  {
   "cell_type": "code",
   "execution_count": null,
   "id": "3dd4987f-abf8-4c55-831d-b019ce8002df",
   "metadata": {},
   "outputs": [],
   "source": [
    "di_index = rides[(rides['distance'] > upper_di) & (rides['min/mile']<2)].index #431"
   ]
  },
  {
   "cell_type": "code",
   "execution_count": null,
   "id": "7fb8ae91-5e18-4e8a-9b75-82165238c719",
   "metadata": {},
   "outputs": [],
   "source": [
    "# remove outlier based on reasonable distance \n",
    "rides = rides.drop(di_index)"
   ]
  },
  {
   "cell_type": "code",
   "execution_count": null,
   "id": "80cef15c-5816-4cbb-ba7f-a0d54c5354e2",
   "metadata": {},
   "outputs": [],
   "source": [
    "# remove outlier based on duration\n",
    "# kept duration within 120 mins to get more insights \n",
    "rides_df = rides[rides['duration_m'] <= 120]\n",
    "rides_df"
   ]
  },
  {
   "cell_type": "code",
   "execution_count": null,
   "id": "a2bf7c9c-1b3a-4b63-88c3-f38941e8fbcc",
   "metadata": {},
   "outputs": [],
   "source": [
    "# count how many rides in each user group\n",
    "user_group = rides_df['member_casual'].value_counts().reset_index()\n",
    "user_group"
   ]
  },
  {
   "cell_type": "code",
   "execution_count": null,
   "id": "9d4a5e13-0236-440e-85d8-496b80f6dd51",
   "metadata": {},
   "outputs": [],
   "source": [
    "# set the visualization style and color panel\n",
    "sns.set_style(\"whitegrid\")\n",
    "colors = sns.color_palette(\"pastel\")[0:2]"
   ]
  },
  {
   "cell_type": "code",
   "execution_count": null,
   "id": "5eab343a-3220-4ff1-9b57-77367d4e4a9b",
   "metadata": {},
   "outputs": [],
   "source": [
    "# plot the number of rides in each user group\n",
    "plt.pie(user_group['count'], labels=user_group['member_casual'], colors=colors, autopct='%.0f%%') \n",
    "  \n",
    "plt.show() "
   ]
  },
  {
   "cell_type": "markdown",
   "id": "81197bf7-6545-4575-ba7c-cccdfbd4f605",
   "metadata": {},
   "source": [
    "## Rideable_type"
   ]
  },
  {
   "cell_type": "code",
   "execution_count": null,
   "id": "8d23ac36-2355-4b6d-8e9e-090ddedd5682",
   "metadata": {},
   "outputs": [],
   "source": [
    "# count how many rides in each rideable type and user group\n",
    "ride_type = rides_df.groupby(['member_casual','rideable_type'])['ride_id'].count().reset_index()"
   ]
  },
  {
   "cell_type": "code",
   "execution_count": null,
   "id": "c9ab8d02-a8d2-4019-8d95-99eb3dfb516d",
   "metadata": {},
   "outputs": [],
   "source": [
    "ride_type['total'] = ride_type.groupby('member_casual')['ride_id'].transform(lambda x: x.sum())\n",
    "ride_type['percent_of_total'] = ride_type['ride_id']/ride_type['total']*100\n",
    "ride_type"
   ]
  },
  {
   "cell_type": "code",
   "execution_count": null,
   "id": "77bac164-d13f-4a76-b9a6-b97c94d53a53",
   "metadata": {},
   "outputs": [],
   "source": [
    "sns.barplot(ride_type, x=\"rideable_type\", y=\"ride_id\", hue=\"member_casual\",hue_order=['member','casual'],palette=colors)\n",
    "\n",
    "plt.xlabel(\"Rideable Type\")\n",
    "plt.ylabel(\"Number of Rides\")\n",
    "plt.title(\"Rideable Type\")\n",
    "\n",
    "plt.show() "
   ]
  },
  {
   "cell_type": "markdown",
   "id": "e088622d-1823-47d5-8987-cdbb88dbfd13",
   "metadata": {},
   "source": [
    "## Duration & Weekdays & Month"
   ]
  },
  {
   "cell_type": "code",
   "execution_count": null,
   "id": "8da1cf84-987e-4953-a3e5-b0fbf4988d38",
   "metadata": {},
   "outputs": [],
   "source": [
    "# duration analysis\n",
    "# group by and see the average and std of each user group \n",
    "rides_df.groupby('member_casual')['duration_m'].agg(['std','mean'])"
   ]
  },
  {
   "cell_type": "code",
   "execution_count": null,
   "id": "8b785560-76b8-4d34-9b5c-8f4add0c6ea5",
   "metadata": {},
   "outputs": [],
   "source": [
    "ri_duration = rides_df[['ride_id','duration_m','member_casual']]"
   ]
  },
  {
   "cell_type": "code",
   "execution_count": null,
   "id": "cef98ae4-6fa7-4417-83a8-736f6135731c",
   "metadata": {
    "scrolled": true
   },
   "outputs": [],
   "source": [
    "# plot histgram to see the duration distribution\n",
    "sns.histplot(data=rides_df,x='duration_m',hue='member_casual',binwidth=3,kde=True)\n",
    "plt.xlabel(\"Ride Duration\")\n",
    "plt.ylabel(\"Number of Rides\")\n",
    "plt.title(\"Ride Duration\")\n",
    "\n",
    "plt.show() "
   ]
  },
  {
   "cell_type": "code",
   "execution_count": null,
   "id": "b7efcbcd-ced0-4d6f-8edc-549d9d3cb240",
   "metadata": {},
   "outputs": [],
   "source": [
    "# assign duration labels to get a more straightforward visualization\n",
    "ri_duration['label_duration'] = np.where(ri_duration['duration_m']<=10,\n",
    "                                         'less than 10 mins',\n",
    "                                         np.where((ri_duration['duration_m'] <= 30) & (ri_duration['duration_m']>10),\n",
    "                                                  'less than 30 mins',\n",
    "                                                  np.where((ri_duration['duration_m'] <= 60) & (ri_duration['duration_m']>30),\n",
    "                                                           'less than 60 mins',\n",
    "                                                               np.where(ri_duration['duration_m'] >60,\n",
    "                                                                    'more than 60 mins',\n",
    "                                                                        'nan'\n",
    "                                                               \n",
    "                                                           )\n",
    "                                                    \n",
    "                                                      \n",
    "                                                  )\n",
    "                                             \n",
    "                                         )\n",
    "                                        )"
   ]
  },
  {
   "cell_type": "code",
   "execution_count": null,
   "id": "89055faf-0334-454a-8292-dd59e0f5848a",
   "metadata": {},
   "outputs": [],
   "source": [
    "ri_duration_plot = ri_duration.groupby(['member_casual','label_duration'])['ride_id'].count().reset_index()\n",
    "ri_duration_plot"
   ]
  },
  {
   "cell_type": "code",
   "execution_count": null,
   "id": "739d98d2-ee88-46d7-8bda-269dbe7bf909",
   "metadata": {
    "scrolled": true
   },
   "outputs": [],
   "source": [
    "sns.barplot(data=ri_duration_plot,x='label_duration',y='ride_id',hue='member_casual',hue_order=['member','casual'],palette=colors)\n",
    "plt.xlabel(\"Ride Duration\")\n",
    "plt.ylabel(\"Number of Rides\")\n",
    "plt.title(\"Ride Duration\")\n",
    "\n",
    "plt.show() "
   ]
  },
  {
   "cell_type": "code",
   "execution_count": null,
   "id": "a0e7b5ed-d79a-41cf-9041-ffe3e7c83081",
   "metadata": {},
   "outputs": [],
   "source": [
    "# casual rider over 30 mins\n",
    "c_over30 = (238152+91500)/2096237*100\n",
    "m_over30 =\t(188021+17447)/3713976*100\n",
    "print(c_over30)\n",
    "print(m_over30)"
   ]
  },
  {
   "cell_type": "code",
   "execution_count": null,
   "id": "d2fc824a-480e-4032-9a61-25224f050db2",
   "metadata": {},
   "outputs": [],
   "source": [
    "# month analysis\n",
    "ride_month = rides_df.groupby(['member_casual','month'])['ride_id'].count().reset_index()\n",
    "ride_month['shift_count'] = ride_month['ride_id'].shift(periods=1)\n",
    "ride_month['percentage_of_difference'] = (ride_month['ride_id']-ride_month['shift_count'])/ride_month['shift_count']*100\n",
    "ride_month"
   ]
  },
  {
   "cell_type": "code",
   "execution_count": null,
   "id": "9aaf7e9d-e522-45a6-9aec-4912405cf0fe",
   "metadata": {},
   "outputs": [],
   "source": [
    "sns.barplot(data=ride_month,x='month',y='ride_id',hue='member_casual',hue_order=['member','casual'],palette=colors)\n",
    "plt.xlabel(\"Month\")\n",
    "plt.ylabel(\"Number of Rides\")\n",
    "plt.title(\"Month Rides\")\n",
    "plt.show()"
   ]
  },
  {
   "cell_type": "code",
   "execution_count": null,
   "id": "1bb62628-4144-48d2-a95c-7d7a0b3efc20",
   "metadata": {},
   "outputs": [],
   "source": [
    "# weekday analysis\n",
    "ride_weekday = rides_df.groupby(['member_casual','weekday'])['ride_id'].count().reset_index()\n",
    "\n",
    "# convert weekday names to numbers using the mapto sort the table\n",
    "weekday_map = {    'Monday': 0,\n",
    "    'Tuesday': 1,\n",
    "    'Wednesday': 2,\n",
    "    'Thursday': 3,\n",
    "    'Friday': 4,\n",
    "    'Saturday': 5,\n",
    "    'Sunday': 6\n",
    "}\n",
    "\n",
    "ride_weekday['weekday_num'] = ride_weekday['weekday'].map(weekday_map)\n",
    "ride_weekday = ride_weekday.sort_values(by='weekday_num')\n",
    "ride_weekday"
   ]
  },
  {
   "cell_type": "code",
   "execution_count": null,
   "id": "c0f26f64-9fad-43a9-ab2d-974870f5702b",
   "metadata": {},
   "outputs": [],
   "source": [
    "# avg weekdays vs. weekends\n",
    "c_weekend = (422147+359003)/2\n",
    "c_weekday = (2096237-422147-359003)/5\n",
    "m_weekend = (471895+420516)/2\n",
    "m_weekday = (3713976-471895-420516)/5 \n",
    "\n",
    "print((c_weekend-c_weekday)/c_weekday*100)\n",
    "print((m_weekend-m_weekday)/m_weekday*100)"
   ]
  },
  {
   "cell_type": "code",
   "execution_count": null,
   "id": "d79d4d13-b64a-4806-a4e0-d213d08d12d4",
   "metadata": {},
   "outputs": [],
   "source": [
    "sns.barplot(data=ride_weekday,x='weekday',y='ride_id',hue='member_casual',hue_order=['member','casual'],palette=colors)\n",
    "plt.xlabel(\"Weekday\")\n",
    "plt.ylabel(\"Number of Rides\")\n",
    "plt.title(\"Weekday Rides\")\n",
    "plt.show()"
   ]
  },
  {
   "cell_type": "markdown",
   "id": "cd80f604-e113-4313-9f6d-0d14cad3e6b2",
   "metadata": {},
   "source": [
    "## Station analysis"
   ]
  },
  {
   "cell_type": "code",
   "execution_count": null,
   "id": "3b6dbb7b-ff93-47e3-a8bc-775750dd30c6",
   "metadata": {},
   "outputs": [],
   "source": [
    "member_df = rides_df[rides_df['member_casual']== 'member']\n",
    "casual_df = rides_df[rides_df['member_casual']== 'casual']"
   ]
  },
  {
   "cell_type": "code",
   "execution_count": null,
   "id": "4e9a3f30-c9fe-4f2d-a258-e83a04e5007c",
   "metadata": {},
   "outputs": [],
   "source": [
    "print(sum(member_df['distance']==0)/3713976)\n",
    "print(sum(casual_df['distance']==0)/2096237)"
   ]
  },
  {
   "cell_type": "code",
   "execution_count": null,
   "id": "3fa11513-ef29-422d-b52f-060f0561b588",
   "metadata": {},
   "outputs": [],
   "source": [
    "print(casual_df['start_station_name'].nunique())\n",
    "print(member_df['start_station_name'].nunique())"
   ]
  },
  {
   "cell_type": "code",
   "execution_count": null,
   "id": "d61eaef9-00a6-491f-9d38-871e677dda57",
   "metadata": {},
   "outputs": [],
   "source": [
    "casual_df.groupby(['start_station_name'])['ride_id'].count().sort_values(ascending=False).head(5)"
   ]
  },
  {
   "cell_type": "code",
   "execution_count": null,
   "id": "ff92dc16-7fb7-4b53-9c42-8343ea02a181",
   "metadata": {
    "scrolled": true
   },
   "outputs": [],
   "source": [
    "member_df.groupby(['start_station_name'])['ride_id'].count().sort_values(ascending=False).head(5)"
   ]
  }
 ],
 "metadata": {
  "kernelspec": {
   "display_name": "Python 3 (ipykernel)",
   "language": "python",
   "name": "python3"
  },
  "language_info": {
   "codemirror_mode": {
    "name": "ipython",
    "version": 3
   },
   "file_extension": ".py",
   "mimetype": "text/x-python",
   "name": "python",
   "nbconvert_exporter": "python",
   "pygments_lexer": "ipython3",
   "version": "3.11.7"
  }
 },
 "nbformat": 4,
 "nbformat_minor": 5
}
