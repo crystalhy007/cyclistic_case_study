{
 "cells": [
  {
   "cell_type": "markdown",
   "id": "88d08b92-39bc-4cf1-906f-f540188b3dde",
   "metadata": {},
   "source": [
    "# Cyclistic Case Study"
   ]
  },
  {
   "cell_type": "code",
   "execution_count": 2,
   "id": "36bc8701-2a8e-4216-a660-b6c37fd1705f",
   "metadata": {},
   "outputs": [],
   "source": [
    "# Load packages\n",
    "import pandas as pd\n",
    "import numpy as np\n",
    "import glob\n",
    "import datetime as dt\n",
    "from haversine import haversine, Unit\n",
    "import seaborn as sns\n",
    "import matplotlib.pyplot as plt"
   ]
  },
  {
   "cell_type": "code",
   "execution_count": 3,
   "id": "862acea6-c15f-42a7-96c0-c43ff001d118",
   "metadata": {},
   "outputs": [
    {
     "name": "stdout",
     "output_type": "stream",
     "text": [
      "                  ride_id  rideable_type           started_at  \\\n",
      "0        4449097279F8BBE7   classic_bike  2023-10-08 10:36:26   \n",
      "1        9CF060543CA7B439  electric_bike  2023-10-11 17:23:59   \n",
      "2        667F21F4D6BDE69C  electric_bike  2023-10-12 07:02:33   \n",
      "3        F92714CC6B019B96   classic_bike  2023-10-24 19:13:03   \n",
      "4        5E34BA5DE945A9CC   classic_bike  2023-10-09 18:19:26   \n",
      "...                   ...            ...                  ...   \n",
      "5854539  30B44BD4C16E688C   classic_bike  2023-11-24 08:39:27   \n",
      "5854540  094A79892812BAB9   classic_bike  2023-11-06 09:07:20   \n",
      "5854541  F0A7DF8A44FDA3CB  electric_bike  2023-11-10 19:35:30   \n",
      "5854542  4D5E3685BB913A3C   classic_bike  2023-11-27 09:11:23   \n",
      "5854543  1FA95C375BE4B6A6  electric_bike  2023-11-20 16:16:03   \n",
      "\n",
      "                    ended_at                    start_station_name  \\\n",
      "0        2023-10-08 10:49:19  Orleans St & Chestnut St (NEXT Apts)   \n",
      "1        2023-10-11 17:36:08             Desplaines St & Kinzie St   \n",
      "2        2023-10-12 07:06:53  Orleans St & Chestnut St (NEXT Apts)   \n",
      "3        2023-10-24 19:18:29             Desplaines St & Kinzie St   \n",
      "4        2023-10-09 18:30:56             Desplaines St & Kinzie St   \n",
      "...                      ...                                   ...   \n",
      "5854539  2023-11-24 08:47:03             Clark St & Wellington Ave   \n",
      "5854540  2023-11-06 09:10:00            Aberdeen St & Jackson Blvd   \n",
      "5854541  2023-11-10 19:44:28                Halsted St & Roscoe St   \n",
      "5854542  2023-11-27 09:13:23            Aberdeen St & Jackson Blvd   \n",
      "5854543  2023-11-20 16:17:43            Aberdeen St & Jackson Blvd   \n",
      "\n",
      "        start_station_id                end_station_name end_station_id  \\\n",
      "0                    620     Sheffield Ave & Webster Ave   TA1309000033   \n",
      "1           TA1306000003     Sheffield Ave & Webster Ave   TA1309000033   \n",
      "2                    620           Franklin St & Lake St   TA1307000111   \n",
      "3           TA1306000003           Franklin St & Lake St   TA1307000111   \n",
      "4           TA1306000003           Franklin St & Lake St   TA1307000111   \n",
      "...                  ...                             ...            ...   \n",
      "5854539     TA1307000136  Southport Ave & Wellington Ave   TA1307000006   \n",
      "5854540            13157        Peoria St & Jackson Blvd          13158   \n",
      "5854541     TA1309000025  Southport Ave & Wellington Ave   TA1307000006   \n",
      "5854542            13157        Peoria St & Jackson Blvd          13158   \n",
      "5854543            13157        Peoria St & Jackson Blvd          13158   \n",
      "\n",
      "         start_lat  start_lng    end_lat    end_lng member_casual  \n",
      "0        41.898203 -87.637536  41.921540 -87.653818        member  \n",
      "1        41.888641 -87.644415  41.921540 -87.653818        member  \n",
      "2        41.898073 -87.637514  41.885837 -87.635500        member  \n",
      "3        41.888716 -87.644448  41.885837 -87.635500        member  \n",
      "4        41.888716 -87.644448  41.885837 -87.635500        member  \n",
      "...            ...        ...        ...        ...           ...  \n",
      "5854539  41.936497 -87.647539  41.935775 -87.663600        member  \n",
      "5854540  41.877726 -87.654787  41.877642 -87.649618        member  \n",
      "5854541  41.943687 -87.648855  41.935775 -87.663600        member  \n",
      "5854542  41.877726 -87.654787  41.877642 -87.649618        member  \n",
      "5854543  41.877869 -87.654898  41.877642 -87.649618        member  \n",
      "\n",
      "[5854544 rows x 13 columns]\n"
     ]
    }
   ],
   "source": [
    "# Get a list of all CSV files in the directory\n",
    "csv_files = glob.glob(\"*.csv\")\n",
    "\n",
    "# Create an empty dataframe to store the combined data\n",
    "combined_df = pd.DataFrame()\n",
    "\n",
    "# Loop through each CSV file\n",
    "for csv_file in csv_files:\n",
    "    # Read the CSV file into a dataframe\n",
    "    df = pd.read_csv(csv_file)\n",
    "\n",
    "    # Append the dataframe to the combined dataframe\n",
    "    combined_df = pd.concat([combined_df, df], ignore_index=True)\n",
    "\n",
    "# Print the combined dataframe\n",
    "print(combined_df)"
   ]
  },
  {
   "cell_type": "code",
   "execution_count": 4,
   "id": "c2566553-75f1-4d0d-98e1-fb026a209591",
   "metadata": {},
   "outputs": [
    {
     "data": {
      "text/html": [
       "<div>\n",
       "<style scoped>\n",
       "    .dataframe tbody tr th:only-of-type {\n",
       "        vertical-align: middle;\n",
       "    }\n",
       "\n",
       "    .dataframe tbody tr th {\n",
       "        vertical-align: top;\n",
       "    }\n",
       "\n",
       "    .dataframe thead th {\n",
       "        text-align: right;\n",
       "    }\n",
       "</style>\n",
       "<table border=\"1\" class=\"dataframe\">\n",
       "  <thead>\n",
       "    <tr style=\"text-align: right;\">\n",
       "      <th></th>\n",
       "      <th>ride_id</th>\n",
       "      <th>rideable_type</th>\n",
       "      <th>started_at</th>\n",
       "      <th>ended_at</th>\n",
       "      <th>start_station_name</th>\n",
       "      <th>start_station_id</th>\n",
       "      <th>end_station_name</th>\n",
       "      <th>end_station_id</th>\n",
       "      <th>start_lat</th>\n",
       "      <th>start_lng</th>\n",
       "      <th>end_lat</th>\n",
       "      <th>end_lng</th>\n",
       "      <th>member_casual</th>\n",
       "    </tr>\n",
       "  </thead>\n",
       "  <tbody>\n",
       "    <tr>\n",
       "      <th>0</th>\n",
       "      <td>4449097279F8BBE7</td>\n",
       "      <td>classic_bike</td>\n",
       "      <td>2023-10-08 10:36:26</td>\n",
       "      <td>2023-10-08 10:49:19</td>\n",
       "      <td>Orleans St &amp; Chestnut St (NEXT Apts)</td>\n",
       "      <td>620</td>\n",
       "      <td>Sheffield Ave &amp; Webster Ave</td>\n",
       "      <td>TA1309000033</td>\n",
       "      <td>41.898203</td>\n",
       "      <td>-87.637536</td>\n",
       "      <td>41.921540</td>\n",
       "      <td>-87.653818</td>\n",
       "      <td>member</td>\n",
       "    </tr>\n",
       "    <tr>\n",
       "      <th>1</th>\n",
       "      <td>9CF060543CA7B439</td>\n",
       "      <td>electric_bike</td>\n",
       "      <td>2023-10-11 17:23:59</td>\n",
       "      <td>2023-10-11 17:36:08</td>\n",
       "      <td>Desplaines St &amp; Kinzie St</td>\n",
       "      <td>TA1306000003</td>\n",
       "      <td>Sheffield Ave &amp; Webster Ave</td>\n",
       "      <td>TA1309000033</td>\n",
       "      <td>41.888641</td>\n",
       "      <td>-87.644415</td>\n",
       "      <td>41.921540</td>\n",
       "      <td>-87.653818</td>\n",
       "      <td>member</td>\n",
       "    </tr>\n",
       "    <tr>\n",
       "      <th>2</th>\n",
       "      <td>667F21F4D6BDE69C</td>\n",
       "      <td>electric_bike</td>\n",
       "      <td>2023-10-12 07:02:33</td>\n",
       "      <td>2023-10-12 07:06:53</td>\n",
       "      <td>Orleans St &amp; Chestnut St (NEXT Apts)</td>\n",
       "      <td>620</td>\n",
       "      <td>Franklin St &amp; Lake St</td>\n",
       "      <td>TA1307000111</td>\n",
       "      <td>41.898073</td>\n",
       "      <td>-87.637514</td>\n",
       "      <td>41.885837</td>\n",
       "      <td>-87.635500</td>\n",
       "      <td>member</td>\n",
       "    </tr>\n",
       "    <tr>\n",
       "      <th>3</th>\n",
       "      <td>F92714CC6B019B96</td>\n",
       "      <td>classic_bike</td>\n",
       "      <td>2023-10-24 19:13:03</td>\n",
       "      <td>2023-10-24 19:18:29</td>\n",
       "      <td>Desplaines St &amp; Kinzie St</td>\n",
       "      <td>TA1306000003</td>\n",
       "      <td>Franklin St &amp; Lake St</td>\n",
       "      <td>TA1307000111</td>\n",
       "      <td>41.888716</td>\n",
       "      <td>-87.644448</td>\n",
       "      <td>41.885837</td>\n",
       "      <td>-87.635500</td>\n",
       "      <td>member</td>\n",
       "    </tr>\n",
       "    <tr>\n",
       "      <th>4</th>\n",
       "      <td>5E34BA5DE945A9CC</td>\n",
       "      <td>classic_bike</td>\n",
       "      <td>2023-10-09 18:19:26</td>\n",
       "      <td>2023-10-09 18:30:56</td>\n",
       "      <td>Desplaines St &amp; Kinzie St</td>\n",
       "      <td>TA1306000003</td>\n",
       "      <td>Franklin St &amp; Lake St</td>\n",
       "      <td>TA1307000111</td>\n",
       "      <td>41.888716</td>\n",
       "      <td>-87.644448</td>\n",
       "      <td>41.885837</td>\n",
       "      <td>-87.635500</td>\n",
       "      <td>member</td>\n",
       "    </tr>\n",
       "  </tbody>\n",
       "</table>\n",
       "</div>"
      ],
      "text/plain": [
       "            ride_id  rideable_type           started_at             ended_at  \\\n",
       "0  4449097279F8BBE7   classic_bike  2023-10-08 10:36:26  2023-10-08 10:49:19   \n",
       "1  9CF060543CA7B439  electric_bike  2023-10-11 17:23:59  2023-10-11 17:36:08   \n",
       "2  667F21F4D6BDE69C  electric_bike  2023-10-12 07:02:33  2023-10-12 07:06:53   \n",
       "3  F92714CC6B019B96   classic_bike  2023-10-24 19:13:03  2023-10-24 19:18:29   \n",
       "4  5E34BA5DE945A9CC   classic_bike  2023-10-09 18:19:26  2023-10-09 18:30:56   \n",
       "\n",
       "                     start_station_name start_station_id  \\\n",
       "0  Orleans St & Chestnut St (NEXT Apts)              620   \n",
       "1             Desplaines St & Kinzie St     TA1306000003   \n",
       "2  Orleans St & Chestnut St (NEXT Apts)              620   \n",
       "3             Desplaines St & Kinzie St     TA1306000003   \n",
       "4             Desplaines St & Kinzie St     TA1306000003   \n",
       "\n",
       "              end_station_name end_station_id  start_lat  start_lng  \\\n",
       "0  Sheffield Ave & Webster Ave   TA1309000033  41.898203 -87.637536   \n",
       "1  Sheffield Ave & Webster Ave   TA1309000033  41.888641 -87.644415   \n",
       "2        Franklin St & Lake St   TA1307000111  41.898073 -87.637514   \n",
       "3        Franklin St & Lake St   TA1307000111  41.888716 -87.644448   \n",
       "4        Franklin St & Lake St   TA1307000111  41.888716 -87.644448   \n",
       "\n",
       "     end_lat    end_lng member_casual  \n",
       "0  41.921540 -87.653818        member  \n",
       "1  41.921540 -87.653818        member  \n",
       "2  41.885837 -87.635500        member  \n",
       "3  41.885837 -87.635500        member  \n",
       "4  41.885837 -87.635500        member  "
      ]
     },
     "execution_count": 4,
     "metadata": {},
     "output_type": "execute_result"
    }
   ],
   "source": [
    "combined_df.head()"
   ]
  },
  {
   "cell_type": "code",
   "execution_count": 5,
   "id": "c51443d1-953a-4e0c-94fe-f31b380a74a1",
   "metadata": {},
   "outputs": [
    {
     "name": "stdout",
     "output_type": "stream",
     "text": [
      "<class 'pandas.core.frame.DataFrame'>\n",
      "RangeIndex: 5854544 entries, 0 to 5854543\n",
      "Data columns (total 13 columns):\n",
      " #   Column              Dtype  \n",
      "---  ------              -----  \n",
      " 0   ride_id             object \n",
      " 1   rideable_type       object \n",
      " 2   started_at          object \n",
      " 3   ended_at            object \n",
      " 4   start_station_name  object \n",
      " 5   start_station_id    object \n",
      " 6   end_station_name    object \n",
      " 7   end_station_id      object \n",
      " 8   start_lat           float64\n",
      " 9   start_lng           float64\n",
      " 10  end_lat             float64\n",
      " 11  end_lng             float64\n",
      " 12  member_casual       object \n",
      "dtypes: float64(4), object(9)\n",
      "memory usage: 580.7+ MB\n"
     ]
    }
   ],
   "source": [
    "combined_df.info()"
   ]
  },
  {
   "cell_type": "markdown",
   "id": "095065f6-1609-4dc4-9fed-1c1b0a1aaecf",
   "metadata": {},
   "source": [
    "## Data clean\n",
    "1. Remove duplicates\n",
    "2. Data type: datetime\n",
    "3. Missing value\n",
    "4. Error: negative duration / distance\n",
    "5. Outliers: extremely small or large"
   ]
  },
  {
   "cell_type": "code",
   "execution_count": 7,
   "id": "cbaa0d7f-cd99-4868-a396-c39f6876fd7e",
   "metadata": {},
   "outputs": [],
   "source": [
    "# ride_id is the primary key. \n",
    "# Each row represents a single ride\n",
    "# Remove any duplicative rides\n",
    "rides = combined_df.drop_duplicates()"
   ]
  },
  {
   "cell_type": "code",
   "execution_count": 8,
   "id": "c280e989-26ab-419f-b527-e6ab77d12fd2",
   "metadata": {},
   "outputs": [],
   "source": [
    "# convert to datetime\n",
    "# using mixed format: '%Y-%m-%d %H:%M:%S.%f' '%Y-%m-%d %H:%M:%S'\n",
    "rides['started_at'] = pd.to_datetime(rides['started_at'],format='mixed') \n",
    "rides['ended_at'] = pd.to_datetime(rides['ended_at'],format='mixed') "
   ]
  },
  {
   "cell_type": "code",
   "execution_count": 9,
   "id": "571b09f1-112f-42d2-b871-592b30320250",
   "metadata": {},
   "outputs": [
    {
     "data": {
      "text/plain": [
       "ride_id               False\n",
       "rideable_type         False\n",
       "started_at            False\n",
       "ended_at              False\n",
       "start_station_name     True\n",
       "start_station_id       True\n",
       "end_station_name       True\n",
       "end_station_id         True\n",
       "start_lat             False\n",
       "start_lng             False\n",
       "end_lat                True\n",
       "end_lng                True\n",
       "member_casual         False\n",
       "dtype: bool"
      ]
     },
     "execution_count": 9,
     "metadata": {},
     "output_type": "execute_result"
    }
   ],
   "source": [
    "# Check columns with missing value\n",
    "col_with_na = rides.isna().any()\n",
    "col_with_na \n",
    "# Both start and end station have missing value \n",
    "# However the start lat and lng don't. It can provide information of the start point.\n",
    "# We can focus on clean the end lat and lng."
   ]
  },
  {
   "cell_type": "code",
   "execution_count": 10,
   "id": "ee52b4c5-d41f-4e9d-9450-db95066f54bf",
   "metadata": {},
   "outputs": [
    {
     "data": {
      "text/html": [
       "<div>\n",
       "<style scoped>\n",
       "    .dataframe tbody tr th:only-of-type {\n",
       "        vertical-align: middle;\n",
       "    }\n",
       "\n",
       "    .dataframe tbody tr th {\n",
       "        vertical-align: top;\n",
       "    }\n",
       "\n",
       "    .dataframe thead th {\n",
       "        text-align: right;\n",
       "    }\n",
       "</style>\n",
       "<table border=\"1\" class=\"dataframe\">\n",
       "  <thead>\n",
       "    <tr style=\"text-align: right;\">\n",
       "      <th></th>\n",
       "      <th>end_lat</th>\n",
       "      <th>end_lng</th>\n",
       "    </tr>\n",
       "  </thead>\n",
       "  <tbody>\n",
       "    <tr>\n",
       "      <th>30731</th>\n",
       "      <td>NaN</td>\n",
       "      <td>NaN</td>\n",
       "    </tr>\n",
       "    <tr>\n",
       "      <th>30922</th>\n",
       "      <td>NaN</td>\n",
       "      <td>NaN</td>\n",
       "    </tr>\n",
       "    <tr>\n",
       "      <th>30928</th>\n",
       "      <td>NaN</td>\n",
       "      <td>NaN</td>\n",
       "    </tr>\n",
       "    <tr>\n",
       "      <th>30932</th>\n",
       "      <td>NaN</td>\n",
       "      <td>NaN</td>\n",
       "    </tr>\n",
       "    <tr>\n",
       "      <th>30993</th>\n",
       "      <td>NaN</td>\n",
       "      <td>NaN</td>\n",
       "    </tr>\n",
       "    <tr>\n",
       "      <th>...</th>\n",
       "      <td>...</td>\n",
       "      <td>...</td>\n",
       "    </tr>\n",
       "    <tr>\n",
       "      <th>5848650</th>\n",
       "      <td>NaN</td>\n",
       "      <td>NaN</td>\n",
       "    </tr>\n",
       "    <tr>\n",
       "      <th>5848651</th>\n",
       "      <td>NaN</td>\n",
       "      <td>NaN</td>\n",
       "    </tr>\n",
       "    <tr>\n",
       "      <th>5848687</th>\n",
       "      <td>NaN</td>\n",
       "      <td>NaN</td>\n",
       "    </tr>\n",
       "    <tr>\n",
       "      <th>5848703</th>\n",
       "      <td>NaN</td>\n",
       "      <td>NaN</td>\n",
       "    </tr>\n",
       "    <tr>\n",
       "      <th>5848724</th>\n",
       "      <td>NaN</td>\n",
       "      <td>NaN</td>\n",
       "    </tr>\n",
       "  </tbody>\n",
       "</table>\n",
       "<p>7441 rows × 2 columns</p>\n",
       "</div>"
      ],
      "text/plain": [
       "         end_lat  end_lng\n",
       "30731        NaN      NaN\n",
       "30922        NaN      NaN\n",
       "30928        NaN      NaN\n",
       "30932        NaN      NaN\n",
       "30993        NaN      NaN\n",
       "...          ...      ...\n",
       "5848650      NaN      NaN\n",
       "5848651      NaN      NaN\n",
       "5848687      NaN      NaN\n",
       "5848703      NaN      NaN\n",
       "5848724      NaN      NaN\n",
       "\n",
       "[7441 rows x 2 columns]"
      ]
     },
     "execution_count": 10,
     "metadata": {},
     "output_type": "execute_result"
    }
   ],
   "source": [
    "end_lat_lng = rides[['end_lat','end_lng']]\n",
    "end_lat_lng[end_lat_lng.isna().any(axis=1)] \n",
    "# 7441 records. 0.1 percent of the whole dataset\n",
    "# It is ok to remove the missing data. 7441/5854544 "
   ]
  },
  {
   "cell_type": "code",
   "execution_count": 11,
   "id": "107c0285-44eb-4543-8619-8040cc6276b8",
   "metadata": {},
   "outputs": [],
   "source": [
    "# Remove na\n",
    "rides = rides.dropna(subset=['end_lat','end_lng'])"
   ]
  },
  {
   "cell_type": "code",
   "execution_count": 12,
   "id": "48fe6a2b-dbf4-42c1-b3d1-20f4de70b834",
   "metadata": {},
   "outputs": [],
   "source": [
    "# Calculate duration\n",
    "rides['duration_m'] = round((rides['ended_at']-rides['started_at']).dt.total_seconds()/60,2)"
   ]
  },
  {
   "cell_type": "code",
   "execution_count": 13,
   "id": "dad384a6-bc18-4dd2-ab6e-d3b1210f283d",
   "metadata": {},
   "outputs": [
    {
     "data": {
      "text/plain": [
       "1089"
      ]
     },
     "execution_count": 13,
     "metadata": {},
     "output_type": "execute_result"
    }
   ],
   "source": [
    "# check how many durations are below 0 \n",
    "sum(rides['duration_m']<=0)"
   ]
  },
  {
   "cell_type": "code",
   "execution_count": 14,
   "id": "fdb53ebd-b64d-4eb9-a9cf-e3f9f5d7437e",
   "metadata": {},
   "outputs": [],
   "source": [
    "# duration should be postive\n",
    "rides = rides[rides['duration_m'] > 0]"
   ]
  },
  {
   "cell_type": "code",
   "execution_count": 15,
   "id": "d468532a-24c6-40b0-8f12-29df296d5eb9",
   "metadata": {},
   "outputs": [],
   "source": [
    "# get month of the date\n",
    "rides['month'] = rides['started_at'].dt.month "
   ]
  },
  {
   "cell_type": "code",
   "execution_count": 16,
   "id": "69c85cac-7113-4866-a323-a303779e3bc2",
   "metadata": {},
   "outputs": [
    {
     "data": {
      "text/html": [
       "<div>\n",
       "<style scoped>\n",
       "    .dataframe tbody tr th:only-of-type {\n",
       "        vertical-align: middle;\n",
       "    }\n",
       "\n",
       "    .dataframe tbody tr th {\n",
       "        vertical-align: top;\n",
       "    }\n",
       "\n",
       "    .dataframe thead th {\n",
       "        text-align: right;\n",
       "    }\n",
       "</style>\n",
       "<table border=\"1\" class=\"dataframe\">\n",
       "  <thead>\n",
       "    <tr style=\"text-align: right;\">\n",
       "      <th></th>\n",
       "      <th>ride_id</th>\n",
       "      <th>rideable_type</th>\n",
       "      <th>started_at</th>\n",
       "      <th>ended_at</th>\n",
       "      <th>start_station_name</th>\n",
       "      <th>start_station_id</th>\n",
       "      <th>end_station_name</th>\n",
       "      <th>end_station_id</th>\n",
       "      <th>start_lat</th>\n",
       "      <th>start_lng</th>\n",
       "      <th>end_lat</th>\n",
       "      <th>end_lng</th>\n",
       "      <th>member_casual</th>\n",
       "      <th>duration_m</th>\n",
       "      <th>month</th>\n",
       "      <th>weekday</th>\n",
       "    </tr>\n",
       "  </thead>\n",
       "  <tbody>\n",
       "    <tr>\n",
       "      <th>0</th>\n",
       "      <td>4449097279F8BBE7</td>\n",
       "      <td>classic_bike</td>\n",
       "      <td>2023-10-08 10:36:26</td>\n",
       "      <td>2023-10-08 10:49:19</td>\n",
       "      <td>Orleans St &amp; Chestnut St (NEXT Apts)</td>\n",
       "      <td>620</td>\n",
       "      <td>Sheffield Ave &amp; Webster Ave</td>\n",
       "      <td>TA1309000033</td>\n",
       "      <td>41.898203</td>\n",
       "      <td>-87.637536</td>\n",
       "      <td>41.921540</td>\n",
       "      <td>-87.653818</td>\n",
       "      <td>member</td>\n",
       "      <td>12.88</td>\n",
       "      <td>10</td>\n",
       "      <td>Sunday</td>\n",
       "    </tr>\n",
       "    <tr>\n",
       "      <th>1</th>\n",
       "      <td>9CF060543CA7B439</td>\n",
       "      <td>electric_bike</td>\n",
       "      <td>2023-10-11 17:23:59</td>\n",
       "      <td>2023-10-11 17:36:08</td>\n",
       "      <td>Desplaines St &amp; Kinzie St</td>\n",
       "      <td>TA1306000003</td>\n",
       "      <td>Sheffield Ave &amp; Webster Ave</td>\n",
       "      <td>TA1309000033</td>\n",
       "      <td>41.888641</td>\n",
       "      <td>-87.644415</td>\n",
       "      <td>41.921540</td>\n",
       "      <td>-87.653818</td>\n",
       "      <td>member</td>\n",
       "      <td>12.15</td>\n",
       "      <td>10</td>\n",
       "      <td>Wednesday</td>\n",
       "    </tr>\n",
       "    <tr>\n",
       "      <th>2</th>\n",
       "      <td>667F21F4D6BDE69C</td>\n",
       "      <td>electric_bike</td>\n",
       "      <td>2023-10-12 07:02:33</td>\n",
       "      <td>2023-10-12 07:06:53</td>\n",
       "      <td>Orleans St &amp; Chestnut St (NEXT Apts)</td>\n",
       "      <td>620</td>\n",
       "      <td>Franklin St &amp; Lake St</td>\n",
       "      <td>TA1307000111</td>\n",
       "      <td>41.898073</td>\n",
       "      <td>-87.637514</td>\n",
       "      <td>41.885837</td>\n",
       "      <td>-87.635500</td>\n",
       "      <td>member</td>\n",
       "      <td>4.33</td>\n",
       "      <td>10</td>\n",
       "      <td>Thursday</td>\n",
       "    </tr>\n",
       "    <tr>\n",
       "      <th>3</th>\n",
       "      <td>F92714CC6B019B96</td>\n",
       "      <td>classic_bike</td>\n",
       "      <td>2023-10-24 19:13:03</td>\n",
       "      <td>2023-10-24 19:18:29</td>\n",
       "      <td>Desplaines St &amp; Kinzie St</td>\n",
       "      <td>TA1306000003</td>\n",
       "      <td>Franklin St &amp; Lake St</td>\n",
       "      <td>TA1307000111</td>\n",
       "      <td>41.888716</td>\n",
       "      <td>-87.644448</td>\n",
       "      <td>41.885837</td>\n",
       "      <td>-87.635500</td>\n",
       "      <td>member</td>\n",
       "      <td>5.43</td>\n",
       "      <td>10</td>\n",
       "      <td>Tuesday</td>\n",
       "    </tr>\n",
       "    <tr>\n",
       "      <th>4</th>\n",
       "      <td>5E34BA5DE945A9CC</td>\n",
       "      <td>classic_bike</td>\n",
       "      <td>2023-10-09 18:19:26</td>\n",
       "      <td>2023-10-09 18:30:56</td>\n",
       "      <td>Desplaines St &amp; Kinzie St</td>\n",
       "      <td>TA1306000003</td>\n",
       "      <td>Franklin St &amp; Lake St</td>\n",
       "      <td>TA1307000111</td>\n",
       "      <td>41.888716</td>\n",
       "      <td>-87.644448</td>\n",
       "      <td>41.885837</td>\n",
       "      <td>-87.635500</td>\n",
       "      <td>member</td>\n",
       "      <td>11.50</td>\n",
       "      <td>10</td>\n",
       "      <td>Monday</td>\n",
       "    </tr>\n",
       "  </tbody>\n",
       "</table>\n",
       "</div>"
      ],
      "text/plain": [
       "            ride_id  rideable_type          started_at            ended_at  \\\n",
       "0  4449097279F8BBE7   classic_bike 2023-10-08 10:36:26 2023-10-08 10:49:19   \n",
       "1  9CF060543CA7B439  electric_bike 2023-10-11 17:23:59 2023-10-11 17:36:08   \n",
       "2  667F21F4D6BDE69C  electric_bike 2023-10-12 07:02:33 2023-10-12 07:06:53   \n",
       "3  F92714CC6B019B96   classic_bike 2023-10-24 19:13:03 2023-10-24 19:18:29   \n",
       "4  5E34BA5DE945A9CC   classic_bike 2023-10-09 18:19:26 2023-10-09 18:30:56   \n",
       "\n",
       "                     start_station_name start_station_id  \\\n",
       "0  Orleans St & Chestnut St (NEXT Apts)              620   \n",
       "1             Desplaines St & Kinzie St     TA1306000003   \n",
       "2  Orleans St & Chestnut St (NEXT Apts)              620   \n",
       "3             Desplaines St & Kinzie St     TA1306000003   \n",
       "4             Desplaines St & Kinzie St     TA1306000003   \n",
       "\n",
       "              end_station_name end_station_id  start_lat  start_lng  \\\n",
       "0  Sheffield Ave & Webster Ave   TA1309000033  41.898203 -87.637536   \n",
       "1  Sheffield Ave & Webster Ave   TA1309000033  41.888641 -87.644415   \n",
       "2        Franklin St & Lake St   TA1307000111  41.898073 -87.637514   \n",
       "3        Franklin St & Lake St   TA1307000111  41.888716 -87.644448   \n",
       "4        Franklin St & Lake St   TA1307000111  41.888716 -87.644448   \n",
       "\n",
       "     end_lat    end_lng member_casual  duration_m  month    weekday  \n",
       "0  41.921540 -87.653818        member       12.88     10     Sunday  \n",
       "1  41.921540 -87.653818        member       12.15     10  Wednesday  \n",
       "2  41.885837 -87.635500        member        4.33     10   Thursday  \n",
       "3  41.885837 -87.635500        member        5.43     10    Tuesday  \n",
       "4  41.885837 -87.635500        member       11.50     10     Monday  "
      ]
     },
     "execution_count": 16,
     "metadata": {},
     "output_type": "execute_result"
    }
   ],
   "source": [
    "# get weekday of the date\n",
    "rides['weekday'] = rides['started_at'].dt.day_name()\n",
    "rides.head()"
   ]
  },
  {
   "cell_type": "code",
   "execution_count": 17,
   "id": "d1a22374-2d4a-4e8c-a2ae-f969911fc7c8",
   "metadata": {},
   "outputs": [],
   "source": [
    "# distance isn't the key to identify how far they ride the bike.\n",
    "# because distance can be 0. Users can return the bike to the original station.\n",
    "# It helps identfiy outliers."
   ]
  },
  {
   "cell_type": "code",
   "execution_count": 18,
   "id": "e2144fcb-1b9e-469b-b09e-5da33c541e59",
   "metadata": {},
   "outputs": [],
   "source": [
    "def calculate_distance(rides):\n",
    "    coords_1 = (rides['start_lat'],rides['start_lng'])\n",
    "    coords_2 = (rides['end_lat'],rides['end_lng'])\n",
    "    return haversine(coords_1, coords_2, unit=Unit.MILES)"
   ]
  },
  {
   "cell_type": "code",
   "execution_count": 19,
   "id": "80c43cd7-ed33-49fc-870f-180dd58e7f52",
   "metadata": {},
   "outputs": [],
   "source": [
    "rides['distance'] = rides.apply(calculate_distance, axis=1)"
   ]
  },
  {
   "cell_type": "code",
   "execution_count": 20,
   "id": "9e4c4812-00e0-4573-8329-42403c15467f",
   "metadata": {},
   "outputs": [
    {
     "data": {
      "text/plain": [
       "(5846014, 17)"
      ]
     },
     "execution_count": 20,
     "metadata": {},
     "output_type": "execute_result"
    }
   ],
   "source": [
    "# Outliers\n",
    "# dataset shape \n",
    "rides.shape"
   ]
  },
  {
   "cell_type": "code",
   "execution_count": 21,
   "id": "093e98fe-21ef-4eaf-9ed0-d68fdd955cde",
   "metadata": {},
   "outputs": [
    {
     "data": {
      "text/plain": [
       "min        0.010000\n",
       "mean      15.439345\n",
       "max     1509.370000\n",
       "Name: duration_m, dtype: float64"
      ]
     },
     "execution_count": 21,
     "metadata": {},
     "output_type": "execute_result"
    }
   ],
   "source": [
    "# max of duration is over 24 hours. \n",
    "# the potential reasons: 1. system error 2. user forgot to return the bike 3. user couldn't find a place to return.\n",
    "rides['duration_m'].agg(['min','mean','max'])"
   ]
  },
  {
   "cell_type": "code",
   "execution_count": 22,
   "id": "f3ee1360-58cf-4012-a1ce-e7551e8ab6af",
   "metadata": {},
   "outputs": [
    {
     "data": {
      "text/plain": [
       "count    5.846014e+06\n",
       "mean     1.543935e+01\n",
       "std      3.315466e+01\n",
       "min      1.000000e-02\n",
       "25%      5.520000e+00\n",
       "50%      9.670000e+00\n",
       "75%      1.713000e+01\n",
       "max      1.509370e+03\n",
       "Name: duration_m, dtype: float64"
      ]
     },
     "execution_count": 22,
     "metadata": {},
     "output_type": "execute_result"
    }
   ],
   "source": [
    "rides['duration_m'].describe()"
   ]
  },
  {
   "cell_type": "code",
   "execution_count": 23,
   "id": "f29ffa47-f0f1-4faf-b932-b347a0a08674",
   "metadata": {},
   "outputs": [],
   "source": [
    "# calculate IQR to identify outliers\n",
    "du_q1 = rides['duration_m'].describe().iloc[4]\n",
    "du_q3 = rides['duration_m'].describe().iloc[6]"
   ]
  },
  {
   "cell_type": "code",
   "execution_count": 24,
   "id": "4b45ad5b-03a9-4823-af0c-fc0b765ea359",
   "metadata": {},
   "outputs": [
    {
     "name": "stdout",
     "output_type": "stream",
     "text": [
      "34.545\n",
      "-11.895\n"
     ]
    }
   ],
   "source": [
    "iqr_du = du_q3 - du_q1\n",
    "upper_du = du_q3+1.5*iqr_du\n",
    "lower_du = du_q1-1.5*iqr_du\n",
    "print(upper_du)\n",
    "print(lower_du)"
   ]
  },
  {
   "cell_type": "code",
   "execution_count": 25,
   "id": "23ef1188-ddd5-4050-924d-d025cfdcbb17",
   "metadata": {},
   "outputs": [],
   "source": [
    "# check under each criteria, how much data will be identified as outliers\n",
    "# 120min: 35370/5846014 0.6%\n",
    "# 60min: 144319/5846014 2%\n",
    "# upper_du: 435825/5846014 7%"
   ]
  },
  {
   "cell_type": "code",
   "execution_count": 26,
   "id": "c1383dc9-2c29-4770-8107-a116e6212554",
   "metadata": {},
   "outputs": [],
   "source": [
    "rd_iqr = rides[rides['duration_m'] <= upper_du]"
   ]
  },
  {
   "cell_type": "code",
   "execution_count": 27,
   "id": "831ea373-f93d-4f39-ab78-79bb6604313b",
   "metadata": {},
   "outputs": [
    {
     "data": {
      "text/plain": [
       "<Axes: xlabel='duration_m', ylabel='Count'>"
      ]
     },
     "execution_count": 27,
     "metadata": {},
     "output_type": "execute_result"
    },
    {
     "data": {
      "image/png": "[encoded data removed]",
      "text/plain": [
       "<Figure size 640x480 with 1 Axes>"
      ]
     },
     "metadata": {},
     "output_type": "display_data"
    }
   ],
   "source": [
    "sns.histplot(data=rd_iqr, x=\"duration_m\",binwidth=3)"
   ]
  },
  {
   "cell_type": "code",
   "execution_count": 28,
   "id": "60019de6-1569-49f4-8fe1-f84269203229",
   "metadata": {},
   "outputs": [],
   "source": [
    "rd_60 = rides[rides['duration_m'] <= 60]"
   ]
  },
  {
   "cell_type": "code",
   "execution_count": 29,
   "id": "9430a8b6-51db-4e1c-95a4-d970d236c311",
   "metadata": {},
   "outputs": [
    {
     "data": {
      "text/plain": [
       "<Axes: xlabel='duration_m', ylabel='Count'>"
      ]
     },
     "execution_count": 29,
     "metadata": {},
     "output_type": "execute_result"
    },
    {
     "data": {
      "image/png": "[encoded data removed]",
      "text/plain": [
       "<Figure size 640x480 with 1 Axes>"
      ]
     },
     "metadata": {},
     "output_type": "display_data"
    }
   ],
   "source": [
    "sns.histplot(data=rd_60, x=\"duration_m\",binwidth=3)"
   ]
  },
  {
   "cell_type": "code",
   "execution_count": 30,
   "id": "9e13cc1e-40be-47ff-b050-a405d65b4c78",
   "metadata": {},
   "outputs": [],
   "source": [
    "rd_120 = rides[rides['duration_m'] <= 120]"
   ]
  },
  {
   "cell_type": "code",
   "execution_count": 31,
   "id": "7620369f-18fa-4f68-9a1e-f9e7e9758e69",
   "metadata": {},
   "outputs": [
    {
     "data": {
      "text/plain": [
       "<Axes: xlabel='duration_m', ylabel='Count'>"
      ]
     },
     "execution_count": 31,
     "metadata": {},
     "output_type": "execute_result"
    },
    {
     "data": {
      "image/png": "[encoded data removed]",
      "text/plain": [
       "<Figure size 640x480 with 1 Axes>"
      ]
     },
     "metadata": {},
     "output_type": "display_data"
    }
   ],
   "source": [
    "sns.histplot(data=rd_120, x=\"duration_m\",binwidth=3)"
   ]
  },
  {
   "cell_type": "code",
   "execution_count": 32,
   "id": "faaddcd8-5aa8-44c1-a37e-ee7310f94cc5",
   "metadata": {},
   "outputs": [
    {
     "data": {
      "text/plain": [
       "min        0.000000\n",
       "mean       1.326487\n",
       "max     3465.144715\n",
       "Name: distance, dtype: float64"
      ]
     },
     "execution_count": 32,
     "metadata": {},
     "output_type": "execute_result"
    }
   ],
   "source": [
    "# max of distance is over 3000 miles, which is not reasonable\n",
    "rides['distance'].agg(['min','mean','max'])"
   ]
  },
  {
   "cell_type": "code",
   "execution_count": 33,
   "id": "22dd3a3a-c26e-420e-9b85-65ca0452e5d8",
   "metadata": {},
   "outputs": [
    {
     "data": {
      "text/plain": [
       "count    5.846014e+06\n",
       "mean     1.326487e+00\n",
       "std      2.800892e+00\n",
       "min      0.000000e+00\n",
       "25%      5.400602e-01\n",
       "50%      9.674762e-01\n",
       "75%      1.722631e+00\n",
       "max      3.465145e+03\n",
       "Name: distance, dtype: float64"
      ]
     },
     "execution_count": 33,
     "metadata": {},
     "output_type": "execute_result"
    }
   ],
   "source": [
    "rides['distance'].describe()"
   ]
  },
  {
   "cell_type": "code",
   "execution_count": 34,
   "id": "f762a810-ac5d-49a3-b8b6-3c56622cc3dd",
   "metadata": {},
   "outputs": [],
   "source": [
    "# IQR\n",
    "di_q1 = rides['distance'].describe().iloc[4]\n",
    "di_q3 = rides['distance'].describe().iloc[6]"
   ]
  },
  {
   "cell_type": "code",
   "execution_count": 35,
   "id": "522bfa53-7610-4b3e-b23f-c4717011337e",
   "metadata": {},
   "outputs": [
    {
     "name": "stdout",
     "output_type": "stream",
     "text": [
      "3.4964860162071054\n",
      "-1.2337952579129383\n"
     ]
    }
   ],
   "source": [
    "iqr_di = di_q3 - di_q1\n",
    "upper_di = di_q3+1.5*iqr_di\n",
    "lower_di = di_q1-1.5*iqr_di\n",
    "print(upper_di)\n",
    "print(lower_di)"
   ]
  },
  {
   "cell_type": "code",
   "execution_count": 36,
   "id": "67cc459c-df55-4563-abcb-372327f31377",
   "metadata": {},
   "outputs": [],
   "source": [
    "# check minutes per mile to identify reasonable data range\n",
    "# expert biker rides 2 minutes per mile \n",
    "rides['min/mile'] = rides['duration_m']/rides['distance']"
   ]
  },
  {
   "cell_type": "code",
   "execution_count": 37,
   "id": "3dd4987f-abf8-4c55-831d-b019ce8002df",
   "metadata": {},
   "outputs": [],
   "source": [
    "di_index = rides[(rides['distance'] > upper_di) & (rides['min/mile']<2)].index #431"
   ]
  },
  {
   "cell_type": "code",
   "execution_count": 38,
   "id": "7fb8ae91-5e18-4e8a-9b75-82165238c719",
   "metadata": {},
   "outputs": [],
   "source": [
    "# remove outlier based on reasonable distance \n",
    "rides = rides.drop(di_index)"
   ]
  },
  {
   "cell_type": "code",
   "execution_count": 39,
   "id": "80cef15c-5816-4cbb-ba7f-a0d54c5354e2",
   "metadata": {},
   "outputs": [
    {
     "data": {
      "text/html": [
       "<div>\n",
       "<style scoped>\n",
       "    .dataframe tbody tr th:only-of-type {\n",
       "        vertical-align: middle;\n",
       "    }\n",
       "\n",
       "    .dataframe tbody tr th {\n",
       "        vertical-align: top;\n",
       "    }\n",
       "\n",
       "    .dataframe thead th {\n",
       "        text-align: right;\n",
       "    }\n",
       "</style>\n",
       "<table border=\"1\" class=\"dataframe\">\n",
       "  <thead>\n",
       "    <tr style=\"text-align: right;\">\n",
       "      <th></th>\n",
       "      <th>ride_id</th>\n",
       "      <th>rideable_type</th>\n",
       "      <th>started_at</th>\n",
       "      <th>ended_at</th>\n",
       "      <th>start_station_name</th>\n",
       "      <th>start_station_id</th>\n",
       "      <th>end_station_name</th>\n",
       "      <th>end_station_id</th>\n",
       "      <th>start_lat</th>\n",
       "      <th>start_lng</th>\n",
       "      <th>end_lat</th>\n",
       "      <th>end_lng</th>\n",
       "      <th>member_casual</th>\n",
       "      <th>duration_m</th>\n",
       "      <th>month</th>\n",
       "      <th>weekday</th>\n",
       "      <th>distance</th>\n",
       "      <th>min/mile</th>\n",
       "    </tr>\n",
       "  </thead>\n",
       "  <tbody>\n",
       "    <tr>\n",
       "      <th>0</th>\n",
       "      <td>4449097279F8BBE7</td>\n",
       "      <td>classic_bike</td>\n",
       "      <td>2023-10-08 10:36:26</td>\n",
       "      <td>2023-10-08 10:49:19</td>\n",
       "      <td>Orleans St &amp; Chestnut St (NEXT Apts)</td>\n",
       "      <td>620</td>\n",
       "      <td>Sheffield Ave &amp; Webster Ave</td>\n",
       "      <td>TA1309000033</td>\n",
       "      <td>41.898203</td>\n",
       "      <td>-87.637536</td>\n",
       "      <td>41.921540</td>\n",
       "      <td>-87.653818</td>\n",
       "      <td>member</td>\n",
       "      <td>12.88</td>\n",
       "      <td>10</td>\n",
       "      <td>Sunday</td>\n",
       "      <td>1.816825</td>\n",
       "      <td>7.089290</td>\n",
       "    </tr>\n",
       "    <tr>\n",
       "      <th>1</th>\n",
       "      <td>9CF060543CA7B439</td>\n",
       "      <td>electric_bike</td>\n",
       "      <td>2023-10-11 17:23:59</td>\n",
       "      <td>2023-10-11 17:36:08</td>\n",
       "      <td>Desplaines St &amp; Kinzie St</td>\n",
       "      <td>TA1306000003</td>\n",
       "      <td>Sheffield Ave &amp; Webster Ave</td>\n",
       "      <td>TA1309000033</td>\n",
       "      <td>41.888641</td>\n",
       "      <td>-87.644415</td>\n",
       "      <td>41.921540</td>\n",
       "      <td>-87.653818</td>\n",
       "      <td>member</td>\n",
       "      <td>12.15</td>\n",
       "      <td>10</td>\n",
       "      <td>Wednesday</td>\n",
       "      <td>2.323963</td>\n",
       "      <td>5.228138</td>\n",
       "    </tr>\n",
       "    <tr>\n",
       "      <th>2</th>\n",
       "      <td>667F21F4D6BDE69C</td>\n",
       "      <td>electric_bike</td>\n",
       "      <td>2023-10-12 07:02:33</td>\n",
       "      <td>2023-10-12 07:06:53</td>\n",
       "      <td>Orleans St &amp; Chestnut St (NEXT Apts)</td>\n",
       "      <td>620</td>\n",
       "      <td>Franklin St &amp; Lake St</td>\n",
       "      <td>TA1307000111</td>\n",
       "      <td>41.898073</td>\n",
       "      <td>-87.637514</td>\n",
       "      <td>41.885837</td>\n",
       "      <td>-87.635500</td>\n",
       "      <td>member</td>\n",
       "      <td>4.33</td>\n",
       "      <td>10</td>\n",
       "      <td>Thursday</td>\n",
       "      <td>0.851738</td>\n",
       "      <td>5.083722</td>\n",
       "    </tr>\n",
       "    <tr>\n",
       "      <th>3</th>\n",
       "      <td>F92714CC6B019B96</td>\n",
       "      <td>classic_bike</td>\n",
       "      <td>2023-10-24 19:13:03</td>\n",
       "      <td>2023-10-24 19:18:29</td>\n",
       "      <td>Desplaines St &amp; Kinzie St</td>\n",
       "      <td>TA1306000003</td>\n",
       "      <td>Franklin St &amp; Lake St</td>\n",
       "      <td>TA1307000111</td>\n",
       "      <td>41.888716</td>\n",
       "      <td>-87.644448</td>\n",
       "      <td>41.885837</td>\n",
       "      <td>-87.635500</td>\n",
       "      <td>member</td>\n",
       "      <td>5.43</td>\n",
       "      <td>10</td>\n",
       "      <td>Tuesday</td>\n",
       "      <td>0.501401</td>\n",
       "      <td>10.829651</td>\n",
       "    </tr>\n",
       "    <tr>\n",
       "      <th>4</th>\n",
       "      <td>5E34BA5DE945A9CC</td>\n",
       "      <td>classic_bike</td>\n",
       "      <td>2023-10-09 18:19:26</td>\n",
       "      <td>2023-10-09 18:30:56</td>\n",
       "      <td>Desplaines St &amp; Kinzie St</td>\n",
       "      <td>TA1306000003</td>\n",
       "      <td>Franklin St &amp; Lake St</td>\n",
       "      <td>TA1307000111</td>\n",
       "      <td>41.888716</td>\n",
       "      <td>-87.644448</td>\n",
       "      <td>41.885837</td>\n",
       "      <td>-87.635500</td>\n",
       "      <td>member</td>\n",
       "      <td>11.50</td>\n",
       "      <td>10</td>\n",
       "      <td>Monday</td>\n",
       "      <td>0.501401</td>\n",
       "      <td>22.935726</td>\n",
       "    </tr>\n",
       "    <tr>\n",
       "      <th>...</th>\n",
       "      <td>...</td>\n",
       "      <td>...</td>\n",
       "      <td>...</td>\n",
       "      <td>...</td>\n",
       "      <td>...</td>\n",
       "      <td>...</td>\n",
       "      <td>...</td>\n",
       "      <td>...</td>\n",
       "      <td>...</td>\n",
       "      <td>...</td>\n",
       "      <td>...</td>\n",
       "      <td>...</td>\n",
       "      <td>...</td>\n",
       "      <td>...</td>\n",
       "      <td>...</td>\n",
       "      <td>...</td>\n",
       "      <td>...</td>\n",
       "      <td>...</td>\n",
       "    </tr>\n",
       "    <tr>\n",
       "      <th>5854539</th>\n",
       "      <td>30B44BD4C16E688C</td>\n",
       "      <td>classic_bike</td>\n",
       "      <td>2023-11-24 08:39:27</td>\n",
       "      <td>2023-11-24 08:47:03</td>\n",
       "      <td>Clark St &amp; Wellington Ave</td>\n",
       "      <td>TA1307000136</td>\n",
       "      <td>Southport Ave &amp; Wellington Ave</td>\n",
       "      <td>TA1307000006</td>\n",
       "      <td>41.936497</td>\n",
       "      <td>-87.647539</td>\n",
       "      <td>41.935775</td>\n",
       "      <td>-87.663600</td>\n",
       "      <td>member</td>\n",
       "      <td>7.60</td>\n",
       "      <td>11</td>\n",
       "      <td>Friday</td>\n",
       "      <td>0.827034</td>\n",
       "      <td>9.189467</td>\n",
       "    </tr>\n",
       "    <tr>\n",
       "      <th>5854540</th>\n",
       "      <td>094A79892812BAB9</td>\n",
       "      <td>classic_bike</td>\n",
       "      <td>2023-11-06 09:07:20</td>\n",
       "      <td>2023-11-06 09:10:00</td>\n",
       "      <td>Aberdeen St &amp; Jackson Blvd</td>\n",
       "      <td>13157</td>\n",
       "      <td>Peoria St &amp; Jackson Blvd</td>\n",
       "      <td>13158</td>\n",
       "      <td>41.877726</td>\n",
       "      <td>-87.654787</td>\n",
       "      <td>41.877642</td>\n",
       "      <td>-87.649618</td>\n",
       "      <td>member</td>\n",
       "      <td>2.67</td>\n",
       "      <td>11</td>\n",
       "      <td>Monday</td>\n",
       "      <td>0.266016</td>\n",
       "      <td>10.036983</td>\n",
       "    </tr>\n",
       "    <tr>\n",
       "      <th>5854541</th>\n",
       "      <td>F0A7DF8A44FDA3CB</td>\n",
       "      <td>electric_bike</td>\n",
       "      <td>2023-11-10 19:35:30</td>\n",
       "      <td>2023-11-10 19:44:28</td>\n",
       "      <td>Halsted St &amp; Roscoe St</td>\n",
       "      <td>TA1309000025</td>\n",
       "      <td>Southport Ave &amp; Wellington Ave</td>\n",
       "      <td>TA1307000006</td>\n",
       "      <td>41.943687</td>\n",
       "      <td>-87.648855</td>\n",
       "      <td>41.935775</td>\n",
       "      <td>-87.663600</td>\n",
       "      <td>member</td>\n",
       "      <td>8.97</td>\n",
       "      <td>11</td>\n",
       "      <td>Friday</td>\n",
       "      <td>0.934419</td>\n",
       "      <td>9.599549</td>\n",
       "    </tr>\n",
       "    <tr>\n",
       "      <th>5854542</th>\n",
       "      <td>4D5E3685BB913A3C</td>\n",
       "      <td>classic_bike</td>\n",
       "      <td>2023-11-27 09:11:23</td>\n",
       "      <td>2023-11-27 09:13:23</td>\n",
       "      <td>Aberdeen St &amp; Jackson Blvd</td>\n",
       "      <td>13157</td>\n",
       "      <td>Peoria St &amp; Jackson Blvd</td>\n",
       "      <td>13158</td>\n",
       "      <td>41.877726</td>\n",
       "      <td>-87.654787</td>\n",
       "      <td>41.877642</td>\n",
       "      <td>-87.649618</td>\n",
       "      <td>member</td>\n",
       "      <td>2.00</td>\n",
       "      <td>11</td>\n",
       "      <td>Monday</td>\n",
       "      <td>0.266016</td>\n",
       "      <td>7.518339</td>\n",
       "    </tr>\n",
       "    <tr>\n",
       "      <th>5854543</th>\n",
       "      <td>1FA95C375BE4B6A6</td>\n",
       "      <td>electric_bike</td>\n",
       "      <td>2023-11-20 16:16:03</td>\n",
       "      <td>2023-11-20 16:17:43</td>\n",
       "      <td>Aberdeen St &amp; Jackson Blvd</td>\n",
       "      <td>13157</td>\n",
       "      <td>Peoria St &amp; Jackson Blvd</td>\n",
       "      <td>13158</td>\n",
       "      <td>41.877869</td>\n",
       "      <td>-87.654898</td>\n",
       "      <td>41.877642</td>\n",
       "      <td>-87.649618</td>\n",
       "      <td>member</td>\n",
       "      <td>1.67</td>\n",
       "      <td>11</td>\n",
       "      <td>Monday</td>\n",
       "      <td>0.272097</td>\n",
       "      <td>6.137517</td>\n",
       "    </tr>\n",
       "  </tbody>\n",
       "</table>\n",
       "<p>5810213 rows × 18 columns</p>\n",
       "</div>"
      ],
      "text/plain": [
       "                  ride_id  rideable_type          started_at  \\\n",
       "0        4449097279F8BBE7   classic_bike 2023-10-08 10:36:26   \n",
       "1        9CF060543CA7B439  electric_bike 2023-10-11 17:23:59   \n",
       "2        667F21F4D6BDE69C  electric_bike 2023-10-12 07:02:33   \n",
       "3        F92714CC6B019B96   classic_bike 2023-10-24 19:13:03   \n",
       "4        5E34BA5DE945A9CC   classic_bike 2023-10-09 18:19:26   \n",
       "...                   ...            ...                 ...   \n",
       "5854539  30B44BD4C16E688C   classic_bike 2023-11-24 08:39:27   \n",
       "5854540  094A79892812BAB9   classic_bike 2023-11-06 09:07:20   \n",
       "5854541  F0A7DF8A44FDA3CB  electric_bike 2023-11-10 19:35:30   \n",
       "5854542  4D5E3685BB913A3C   classic_bike 2023-11-27 09:11:23   \n",
       "5854543  1FA95C375BE4B6A6  electric_bike 2023-11-20 16:16:03   \n",
       "\n",
       "                   ended_at                    start_station_name  \\\n",
       "0       2023-10-08 10:49:19  Orleans St & Chestnut St (NEXT Apts)   \n",
       "1       2023-10-11 17:36:08             Desplaines St & Kinzie St   \n",
       "2       2023-10-12 07:06:53  Orleans St & Chestnut St (NEXT Apts)   \n",
       "3       2023-10-24 19:18:29             Desplaines St & Kinzie St   \n",
       "4       2023-10-09 18:30:56             Desplaines St & Kinzie St   \n",
       "...                     ...                                   ...   \n",
       "5854539 2023-11-24 08:47:03             Clark St & Wellington Ave   \n",
       "5854540 2023-11-06 09:10:00            Aberdeen St & Jackson Blvd   \n",
       "5854541 2023-11-10 19:44:28                Halsted St & Roscoe St   \n",
       "5854542 2023-11-27 09:13:23            Aberdeen St & Jackson Blvd   \n",
       "5854543 2023-11-20 16:17:43            Aberdeen St & Jackson Blvd   \n",
       "\n",
       "        start_station_id                end_station_name end_station_id  \\\n",
       "0                    620     Sheffield Ave & Webster Ave   TA1309000033   \n",
       "1           TA1306000003     Sheffield Ave & Webster Ave   TA1309000033   \n",
       "2                    620           Franklin St & Lake St   TA1307000111   \n",
       "3           TA1306000003           Franklin St & Lake St   TA1307000111   \n",
       "4           TA1306000003           Franklin St & Lake St   TA1307000111   \n",
       "...                  ...                             ...            ...   \n",
       "5854539     TA1307000136  Southport Ave & Wellington Ave   TA1307000006   \n",
       "5854540            13157        Peoria St & Jackson Blvd          13158   \n",
       "5854541     TA1309000025  Southport Ave & Wellington Ave   TA1307000006   \n",
       "5854542            13157        Peoria St & Jackson Blvd          13158   \n",
       "5854543            13157        Peoria St & Jackson Blvd          13158   \n",
       "\n",
       "         start_lat  start_lng    end_lat    end_lng member_casual  duration_m  \\\n",
       "0        41.898203 -87.637536  41.921540 -87.653818        member       12.88   \n",
       "1        41.888641 -87.644415  41.921540 -87.653818        member       12.15   \n",
       "2        41.898073 -87.637514  41.885837 -87.635500        member        4.33   \n",
       "3        41.888716 -87.644448  41.885837 -87.635500        member        5.43   \n",
       "4        41.888716 -87.644448  41.885837 -87.635500        member       11.50   \n",
       "...            ...        ...        ...        ...           ...         ...   \n",
       "5854539  41.936497 -87.647539  41.935775 -87.663600        member        7.60   \n",
       "5854540  41.877726 -87.654787  41.877642 -87.649618        member        2.67   \n",
       "5854541  41.943687 -87.648855  41.935775 -87.663600        member        8.97   \n",
       "5854542  41.877726 -87.654787  41.877642 -87.649618        member        2.00   \n",
       "5854543  41.877869 -87.654898  41.877642 -87.649618        member        1.67   \n",
       "\n",
       "         month    weekday  distance   min/mile  \n",
       "0           10     Sunday  1.816825   7.089290  \n",
       "1           10  Wednesday  2.323963   5.228138  \n",
       "2           10   Thursday  0.851738   5.083722  \n",
       "3           10    Tuesday  0.501401  10.829651  \n",
       "4           10     Monday  0.501401  22.935726  \n",
       "...        ...        ...       ...        ...  \n",
       "5854539     11     Friday  0.827034   9.189467  \n",
       "5854540     11     Monday  0.266016  10.036983  \n",
       "5854541     11     Friday  0.934419   9.599549  \n",
       "5854542     11     Monday  0.266016   7.518339  \n",
       "5854543     11     Monday  0.272097   6.137517  \n",
       "\n",
       "[5810213 rows x 18 columns]"
      ]
     },
     "execution_count": 39,
     "metadata": {},
     "output_type": "execute_result"
    }
   ],
   "source": [
    "# remove outlier based on duration\n",
    "# kept duration within 120 mins to get more insights \n",
    "rides_df = rides[rides['duration_m'] <= 120]\n",
    "rides_df"
   ]
  },
  {
   "cell_type": "code",
   "execution_count": 40,
   "id": "a2bf7c9c-1b3a-4b63-88c3-f38941e8fbcc",
   "metadata": {},
   "outputs": [
    {
     "data": {
      "text/html": [
       "<div>\n",
       "<style scoped>\n",
       "    .dataframe tbody tr th:only-of-type {\n",
       "        vertical-align: middle;\n",
       "    }\n",
       "\n",
       "    .dataframe tbody tr th {\n",
       "        vertical-align: top;\n",
       "    }\n",
       "\n",
       "    .dataframe thead th {\n",
       "        text-align: right;\n",
       "    }\n",
       "</style>\n",
       "<table border=\"1\" class=\"dataframe\">\n",
       "  <thead>\n",
       "    <tr style=\"text-align: right;\">\n",
       "      <th></th>\n",
       "      <th>member_casual</th>\n",
       "      <th>count</th>\n",
       "    </tr>\n",
       "  </thead>\n",
       "  <tbody>\n",
       "    <tr>\n",
       "      <th>0</th>\n",
       "      <td>member</td>\n",
       "      <td>3713976</td>\n",
       "    </tr>\n",
       "    <tr>\n",
       "      <th>1</th>\n",
       "      <td>casual</td>\n",
       "      <td>2096237</td>\n",
       "    </tr>\n",
       "  </tbody>\n",
       "</table>\n",
       "</div>"
      ],
      "text/plain": [
       "  member_casual    count\n",
       "0        member  3713976\n",
       "1        casual  2096237"
      ]
     },
     "execution_count": 40,
     "metadata": {},
     "output_type": "execute_result"
    }
   ],
   "source": [
    "# count how many rides in each user group\n",
    "user_group = rides_df['member_casual'].value_counts().reset_index()\n",
    "user_group"
   ]
  },
  {
   "cell_type": "code",
   "execution_count": 41,
   "id": "9d4a5e13-0236-440e-85d8-496b80f6dd51",
   "metadata": {},
   "outputs": [],
   "source": [
    "# set the visualization style and color panel\n",
    "sns.set_style(\"whitegrid\")\n",
    "colors = sns.color_palette(\"pastel\")[0:2]"
   ]
  },
  {
   "cell_type": "code",
   "execution_count": 42,
   "id": "5eab343a-3220-4ff1-9b57-77367d4e4a9b",
   "metadata": {},
   "outputs": [
    {
     "data": {
      "image/png": "[encoded data removed]",
      "text/plain": [
       "<Figure size 640x480 with 1 Axes>"
      ]
     },
     "metadata": {},
     "output_type": "display_data"
    }
   ],
   "source": [
    "# plot the number of rides in each user group\n",
    "plt.pie(user_group['count'], labels=user_group['member_casual'], colors=colors, autopct='%.0f%%') \n",
    "  \n",
    "plt.show() "
   ]
  },
  {
   "cell_type": "markdown",
   "id": "81197bf7-6545-4575-ba7c-cccdfbd4f605",
   "metadata": {},
   "source": [
    "## Rideable_type"
   ]
  },
  {
   "cell_type": "code",
   "execution_count": 44,
   "id": "8d23ac36-2355-4b6d-8e9e-090ddedd5682",
   "metadata": {},
   "outputs": [],
   "source": [
    "# count how many rides in each rideable type and user group\n",
    "ride_type = rides_df.groupby(['member_casual','rideable_type'])['ride_id'].count().reset_index()"
   ]
  },
  {
   "cell_type": "code",
   "execution_count": 45,
   "id": "c9ab8d02-a8d2-4019-8d95-99eb3dfb516d",
   "metadata": {},
   "outputs": [
    {
     "data": {
      "text/html": [
       "<div>\n",
       "<style scoped>\n",
       "    .dataframe tbody tr th:only-of-type {\n",
       "        vertical-align: middle;\n",
       "    }\n",
       "\n",
       "    .dataframe tbody tr th {\n",
       "        vertical-align: top;\n",
       "    }\n",
       "\n",
       "    .dataframe thead th {\n",
       "        text-align: right;\n",
       "    }\n",
       "</style>\n",
       "<table border=\"1\" class=\"dataframe\">\n",
       "  <thead>\n",
       "    <tr style=\"text-align: right;\">\n",
       "      <th></th>\n",
       "      <th>member_casual</th>\n",
       "      <th>rideable_type</th>\n",
       "      <th>ride_id</th>\n",
       "      <th>total</th>\n",
       "      <th>percent_of_total</th>\n",
       "    </tr>\n",
       "  </thead>\n",
       "  <tbody>\n",
       "    <tr>\n",
       "      <th>0</th>\n",
       "      <td>casual</td>\n",
       "      <td>classic_bike</td>\n",
       "      <td>939581</td>\n",
       "      <td>2096237</td>\n",
       "      <td>44.822270</td>\n",
       "    </tr>\n",
       "    <tr>\n",
       "      <th>1</th>\n",
       "      <td>casual</td>\n",
       "      <td>electric_bike</td>\n",
       "      <td>1071583</td>\n",
       "      <td>2096237</td>\n",
       "      <td>51.119363</td>\n",
       "    </tr>\n",
       "    <tr>\n",
       "      <th>2</th>\n",
       "      <td>casual</td>\n",
       "      <td>electric_scooter</td>\n",
       "      <td>85073</td>\n",
       "      <td>2096237</td>\n",
       "      <td>4.058367</td>\n",
       "    </tr>\n",
       "    <tr>\n",
       "      <th>3</th>\n",
       "      <td>member</td>\n",
       "      <td>classic_bike</td>\n",
       "      <td>1809729</td>\n",
       "      <td>3713976</td>\n",
       "      <td>48.727536</td>\n",
       "    </tr>\n",
       "    <tr>\n",
       "      <th>4</th>\n",
       "      <td>member</td>\n",
       "      <td>electric_bike</td>\n",
       "      <td>1845129</td>\n",
       "      <td>3713976</td>\n",
       "      <td>49.680693</td>\n",
       "    </tr>\n",
       "    <tr>\n",
       "      <th>5</th>\n",
       "      <td>member</td>\n",
       "      <td>electric_scooter</td>\n",
       "      <td>59118</td>\n",
       "      <td>3713976</td>\n",
       "      <td>1.591771</td>\n",
       "    </tr>\n",
       "  </tbody>\n",
       "</table>\n",
       "</div>"
      ],
      "text/plain": [
       "  member_casual     rideable_type  ride_id    total  percent_of_total\n",
       "0        casual      classic_bike   939581  2096237         44.822270\n",
       "1        casual     electric_bike  1071583  2096237         51.119363\n",
       "2        casual  electric_scooter    85073  2096237          4.058367\n",
       "3        member      classic_bike  1809729  3713976         48.727536\n",
       "4        member     electric_bike  1845129  3713976         49.680693\n",
       "5        member  electric_scooter    59118  3713976          1.591771"
      ]
     },
     "execution_count": 45,
     "metadata": {},
     "output_type": "execute_result"
    }
   ],
   "source": [
    "ride_type['total'] = ride_type.groupby('member_casual')['ride_id'].transform(lambda x: x.sum())\n",
    "ride_type['percent_of_total'] = ride_type['ride_id']/ride_type['total']*100\n",
    "ride_type"
   ]
  },
  {
   "cell_type": "code",
   "execution_count": 46,
   "id": "77bac164-d13f-4a76-b9a6-b97c94d53a53",
   "metadata": {},
   "outputs": [
    {
     "data": {
      "image/png": "[encoded data removed]",
      "text/plain": [
       "<Figure size 640x480 with 1 Axes>"
      ]
     },
     "metadata": {},
     "output_type": "display_data"
    }
   ],
   "source": [
    "sns.barplot(ride_type, x=\"rideable_type\", y=\"ride_id\", hue=\"member_casual\",hue_order=['member','casual'],palette=colors)\n",
    "\n",
    "plt.xlabel(\"Rideable Type\")\n",
    "plt.ylabel(\"Number of Rides\")\n",
    "plt.title(\"Rideable Type\")\n",
    "\n",
    "plt.show() "
   ]
  },
  {
   "cell_type": "markdown",
   "id": "e088622d-1823-47d5-8987-cdbb88dbfd13",
   "metadata": {},
   "source": [
    "## Duration & Weekdays & Month"
   ]
  },
  {
   "cell_type": "code",
   "execution_count": 48,
   "id": "8da1cf84-987e-4953-a3e5-b0fbf4988d38",
   "metadata": {},
   "outputs": [
    {
     "data": {
      "text/html": [
       "<div>\n",
       "<style scoped>\n",
       "    .dataframe tbody tr th:only-of-type {\n",
       "        vertical-align: middle;\n",
       "    }\n",
       "\n",
       "    .dataframe tbody tr th {\n",
       "        vertical-align: top;\n",
       "    }\n",
       "\n",
       "    .dataframe thead th {\n",
       "        text-align: right;\n",
       "    }\n",
       "</style>\n",
       "<table border=\"1\" class=\"dataframe\">\n",
       "  <thead>\n",
       "    <tr style=\"text-align: right;\">\n",
       "      <th></th>\n",
       "      <th>std</th>\n",
       "      <th>mean</th>\n",
       "    </tr>\n",
       "    <tr>\n",
       "      <th>member_casual</th>\n",
       "      <th></th>\n",
       "      <th></th>\n",
       "    </tr>\n",
       "  </thead>\n",
       "  <tbody>\n",
       "    <tr>\n",
       "      <th>casual</th>\n",
       "      <td>18.266483</td>\n",
       "      <td>17.835788</td>\n",
       "    </tr>\n",
       "    <tr>\n",
       "      <th>member</th>\n",
       "      <td>10.181283</td>\n",
       "      <td>11.591019</td>\n",
       "    </tr>\n",
       "  </tbody>\n",
       "</table>\n",
       "</div>"
      ],
      "text/plain": [
       "                     std       mean\n",
       "member_casual                      \n",
       "casual         18.266483  17.835788\n",
       "member         10.181283  11.591019"
      ]
     },
     "execution_count": 48,
     "metadata": {},
     "output_type": "execute_result"
    }
   ],
   "source": [
    "# duration analysis\n",
    "# group by and see the average and std of each user group \n",
    "rides_df.groupby('member_casual')['duration_m'].agg(['std','mean'])"
   ]
  },
  {
   "cell_type": "code",
   "execution_count": 49,
   "id": "8b785560-76b8-4d34-9b5c-8f4add0c6ea5",
   "metadata": {},
   "outputs": [],
   "source": [
    "ri_duration = rides_df[['ride_id','duration_m','member_casual']]"
   ]
  },
  {
   "cell_type": "code",
   "execution_count": 50,
   "id": "cef98ae4-6fa7-4417-83a8-736f6135731c",
   "metadata": {
    "scrolled": true
   },
   "outputs": [
    {
     "data": {
      "image/png": "[encoded data removed]",
      "text/plain": [
       "<Figure size 640x480 with 1 Axes>"
      ]
     },
     "metadata": {},
     "output_type": "display_data"
    }
   ],
   "source": [
    "# plot histgram to see the duration distribution\n",
    "sns.histplot(data=rides_df,x='duration_m',hue='member_casual',binwidth=3,kde=True)\n",
    "plt.xlabel(\"Ride Duration\")\n",
    "plt.ylabel(\"Number of Rides\")\n",
    "plt.title(\"Ride Duration\")\n",
    "\n",
    "plt.show() "
   ]
  },
  {
   "cell_type": "code",
   "execution_count": 51,
   "id": "b7efcbcd-ced0-4d6f-8edc-549d9d3cb240",
   "metadata": {},
   "outputs": [
    {
     "name": "stderr",
     "output_type": "stream",
     "text": [
      "/var/folders/lp/fhfn8drs4gz6mhfv1c20h4pr0000gn/T/ipykernel_69823/2569184294.py:2: SettingWithCopyWarning: \n",
      "A value is trying to be set on a copy of a slice from a DataFrame.\n",
      "Try using .loc[row_indexer,col_indexer] = value instead\n",
      "\n",
      "See the caveats in the documentation: https://pandas.pydata.org/pandas-docs/stable/user_guide/indexing.html#returning-a-view-versus-a-copy\n",
      "  ri_duration['label_duration'] = np.where(ri_duration['duration_m']<=10,\n"
     ]
    }
   ],
   "source": [
    "# assign duration labels to get a more straightforward visualization\n",
    "ri_duration['label_duration'] = np.where(ri_duration['duration_m']<=10,\n",
    "                                         'less than 10 mins',\n",
    "                                         np.where((ri_duration['duration_m'] <= 30) & (ri_duration['duration_m']>10),\n",
    "                                                  'less than 30 mins',\n",
    "                                                  np.where((ri_duration['duration_m'] <= 60) & (ri_duration['duration_m']>30),\n",
    "                                                           'less than 60 mins',\n",
    "                                                               np.where(ri_duration['duration_m'] >60,\n",
    "                                                                    'more than 60 mins',\n",
    "                                                                        'nan'\n",
    "                                                               \n",
    "                                                           )\n",
    "                                                    \n",
    "                                                      \n",
    "                                                  )\n",
    "                                             \n",
    "                                         )\n",
    "                                        )"
   ]
  },
  {
   "cell_type": "code",
   "execution_count": 52,
   "id": "89055faf-0334-454a-8292-dd59e0f5848a",
   "metadata": {},
   "outputs": [
    {
     "data": {
      "text/html": [
       "<div>\n",
       "<style scoped>\n",
       "    .dataframe tbody tr th:only-of-type {\n",
       "        vertical-align: middle;\n",
       "    }\n",
       "\n",
       "    .dataframe tbody tr th {\n",
       "        vertical-align: top;\n",
       "    }\n",
       "\n",
       "    .dataframe thead th {\n",
       "        text-align: right;\n",
       "    }\n",
       "</style>\n",
       "<table border=\"1\" class=\"dataframe\">\n",
       "  <thead>\n",
       "    <tr style=\"text-align: right;\">\n",
       "      <th></th>\n",
       "      <th>member_casual</th>\n",
       "      <th>label_duration</th>\n",
       "      <th>ride_id</th>\n",
       "    </tr>\n",
       "  </thead>\n",
       "  <tbody>\n",
       "    <tr>\n",
       "      <th>0</th>\n",
       "      <td>casual</td>\n",
       "      <td>less than 10 mins</td>\n",
       "      <td>891352</td>\n",
       "    </tr>\n",
       "    <tr>\n",
       "      <th>1</th>\n",
       "      <td>casual</td>\n",
       "      <td>less than 30 mins</td>\n",
       "      <td>875233</td>\n",
       "    </tr>\n",
       "    <tr>\n",
       "      <th>2</th>\n",
       "      <td>casual</td>\n",
       "      <td>less than 60 mins</td>\n",
       "      <td>238152</td>\n",
       "    </tr>\n",
       "    <tr>\n",
       "      <th>3</th>\n",
       "      <td>casual</td>\n",
       "      <td>more than 60 mins</td>\n",
       "      <td>91500</td>\n",
       "    </tr>\n",
       "    <tr>\n",
       "      <th>4</th>\n",
       "      <td>member</td>\n",
       "      <td>less than 10 mins</td>\n",
       "      <td>2128400</td>\n",
       "    </tr>\n",
       "    <tr>\n",
       "      <th>5</th>\n",
       "      <td>member</td>\n",
       "      <td>less than 30 mins</td>\n",
       "      <td>1380108</td>\n",
       "    </tr>\n",
       "    <tr>\n",
       "      <th>6</th>\n",
       "      <td>member</td>\n",
       "      <td>less than 60 mins</td>\n",
       "      <td>188021</td>\n",
       "    </tr>\n",
       "    <tr>\n",
       "      <th>7</th>\n",
       "      <td>member</td>\n",
       "      <td>more than 60 mins</td>\n",
       "      <td>17447</td>\n",
       "    </tr>\n",
       "  </tbody>\n",
       "</table>\n",
       "</div>"
      ],
      "text/plain": [
       "  member_casual     label_duration  ride_id\n",
       "0        casual  less than 10 mins   891352\n",
       "1        casual  less than 30 mins   875233\n",
       "2        casual  less than 60 mins   238152\n",
       "3        casual  more than 60 mins    91500\n",
       "4        member  less than 10 mins  2128400\n",
       "5        member  less than 30 mins  1380108\n",
       "6        member  less than 60 mins   188021\n",
       "7        member  more than 60 mins    17447"
      ]
     },
     "execution_count": 52,
     "metadata": {},
     "output_type": "execute_result"
    }
   ],
   "source": [
    "ri_duration_plot = ri_duration.groupby(['member_casual','label_duration'])['ride_id'].count().reset_index()\n",
    "ri_duration_plot"
   ]
  },
  {
   "cell_type": "code",
   "execution_count": 53,
   "id": "739d98d2-ee88-46d7-8bda-269dbe7bf909",
   "metadata": {
    "scrolled": true
   },
   "outputs": [
    {
     "data": {
      "image/png": "[encoded data removed]",
      "text/plain": [
       "<Figure size 640x480 with 1 Axes>"
      ]
     },
     "metadata": {},
     "output_type": "display_data"
    }
   ],
   "source": [
    "sns.barplot(data=ri_duration_plot,x='label_duration',y='ride_id',hue='member_casual',hue_order=['member','casual'],palette=colors)\n",
    "plt.xlabel(\"Ride Duration\")\n",
    "plt.ylabel(\"Number of Rides\")\n",
    "plt.title(\"Ride Duration\")\n",
    "\n",
    "plt.show() "
   ]
  },
  {
   "cell_type": "code",
   "execution_count": 54,
   "id": "a0e7b5ed-d79a-41cf-9041-ffe3e7c83081",
   "metadata": {},
   "outputs": [
    {
     "name": "stdout",
     "output_type": "stream",
     "text": [
      "15.7258935893222\n",
      "5.532292077277829\n"
     ]
    }
   ],
   "source": [
    "# casual rider over 30 mins\n",
    "c_over30 = (238152+91500)/2096237*100\n",
    "m_over30 =\t(188021+17447)/3713976*100\n",
    "print(c_over30)\n",
    "print(m_over30)"
   ]
  },
  {
   "cell_type": "code",
   "execution_count": 55,
   "id": "d2fc824a-480e-4032-9a61-25224f050db2",
   "metadata": {},
   "outputs": [
    {
     "data": {
      "text/html": [
       "<div>\n",
       "<style scoped>\n",
       "    .dataframe tbody tr th:only-of-type {\n",
       "        vertical-align: middle;\n",
       "    }\n",
       "\n",
       "    .dataframe tbody tr th {\n",
       "        vertical-align: top;\n",
       "    }\n",
       "\n",
       "    .dataframe thead th {\n",
       "        text-align: right;\n",
       "    }\n",
       "</style>\n",
       "<table border=\"1\" class=\"dataframe\">\n",
       "  <thead>\n",
       "    <tr style=\"text-align: right;\">\n",
       "      <th></th>\n",
       "      <th>member_casual</th>\n",
       "      <th>month</th>\n",
       "      <th>ride_id</th>\n",
       "      <th>shift_count</th>\n",
       "      <th>percentage_of_difference</th>\n",
       "    </tr>\n",
       "  </thead>\n",
       "  <tbody>\n",
       "    <tr>\n",
       "      <th>0</th>\n",
       "      <td>casual</td>\n",
       "      <td>1</td>\n",
       "      <td>24123</td>\n",
       "      <td>NaN</td>\n",
       "      <td>NaN</td>\n",
       "    </tr>\n",
       "    <tr>\n",
       "      <th>1</th>\n",
       "      <td>casual</td>\n",
       "      <td>2</td>\n",
       "      <td>46455</td>\n",
       "      <td>24123.0</td>\n",
       "      <td>92.575550</td>\n",
       "    </tr>\n",
       "    <tr>\n",
       "      <th>2</th>\n",
       "      <td>casual</td>\n",
       "      <td>3</td>\n",
       "      <td>81286</td>\n",
       "      <td>46455.0</td>\n",
       "      <td>74.977936</td>\n",
       "    </tr>\n",
       "    <tr>\n",
       "      <th>3</th>\n",
       "      <td>casual</td>\n",
       "      <td>4</td>\n",
       "      <td>129562</td>\n",
       "      <td>81286.0</td>\n",
       "      <td>59.390301</td>\n",
       "    </tr>\n",
       "    <tr>\n",
       "      <th>4</th>\n",
       "      <td>casual</td>\n",
       "      <td>5</td>\n",
       "      <td>226484</td>\n",
       "      <td>129562.0</td>\n",
       "      <td>74.807428</td>\n",
       "    </tr>\n",
       "    <tr>\n",
       "      <th>5</th>\n",
       "      <td>casual</td>\n",
       "      <td>6</td>\n",
       "      <td>295580</td>\n",
       "      <td>226484.0</td>\n",
       "      <td>30.508115</td>\n",
       "    </tr>\n",
       "    <tr>\n",
       "      <th>6</th>\n",
       "      <td>casual</td>\n",
       "      <td>7</td>\n",
       "      <td>314573</td>\n",
       "      <td>295580.0</td>\n",
       "      <td>6.425672</td>\n",
       "    </tr>\n",
       "    <tr>\n",
       "      <th>7</th>\n",
       "      <td>casual</td>\n",
       "      <td>8</td>\n",
       "      <td>312978</td>\n",
       "      <td>314573.0</td>\n",
       "      <td>-0.507037</td>\n",
       "    </tr>\n",
       "    <tr>\n",
       "      <th>8</th>\n",
       "      <td>casual</td>\n",
       "      <td>9</td>\n",
       "      <td>342346</td>\n",
       "      <td>312978.0</td>\n",
       "      <td>9.383407</td>\n",
       "    </tr>\n",
       "    <tr>\n",
       "      <th>9</th>\n",
       "      <td>casual</td>\n",
       "      <td>10</td>\n",
       "      <td>174483</td>\n",
       "      <td>342346.0</td>\n",
       "      <td>-49.033142</td>\n",
       "    </tr>\n",
       "    <tr>\n",
       "      <th>10</th>\n",
       "      <td>casual</td>\n",
       "      <td>11</td>\n",
       "      <td>97273</td>\n",
       "      <td>174483.0</td>\n",
       "      <td>-44.250729</td>\n",
       "    </tr>\n",
       "    <tr>\n",
       "      <th>11</th>\n",
       "      <td>casual</td>\n",
       "      <td>12</td>\n",
       "      <td>51094</td>\n",
       "      <td>97273.0</td>\n",
       "      <td>-47.473605</td>\n",
       "    </tr>\n",
       "    <tr>\n",
       "      <th>12</th>\n",
       "      <td>member</td>\n",
       "      <td>1</td>\n",
       "      <td>119626</td>\n",
       "      <td>51094.0</td>\n",
       "      <td>134.129252</td>\n",
       "    </tr>\n",
       "    <tr>\n",
       "      <th>13</th>\n",
       "      <td>member</td>\n",
       "      <td>2</td>\n",
       "      <td>175376</td>\n",
       "      <td>119626.0</td>\n",
       "      <td>46.603581</td>\n",
       "    </tr>\n",
       "    <tr>\n",
       "      <th>14</th>\n",
       "      <td>member</td>\n",
       "      <td>3</td>\n",
       "      <td>218619</td>\n",
       "      <td>175376.0</td>\n",
       "      <td>24.657308</td>\n",
       "    </tr>\n",
       "    <tr>\n",
       "      <th>15</th>\n",
       "      <td>member</td>\n",
       "      <td>4</td>\n",
       "      <td>282540</td>\n",
       "      <td>218619.0</td>\n",
       "      <td>29.238538</td>\n",
       "    </tr>\n",
       "    <tr>\n",
       "      <th>16</th>\n",
       "      <td>member</td>\n",
       "      <td>5</td>\n",
       "      <td>377516</td>\n",
       "      <td>282540.0</td>\n",
       "      <td>33.615063</td>\n",
       "    </tr>\n",
       "    <tr>\n",
       "      <th>17</th>\n",
       "      <td>member</td>\n",
       "      <td>6</td>\n",
       "      <td>408659</td>\n",
       "      <td>377516.0</td>\n",
       "      <td>8.249452</td>\n",
       "    </tr>\n",
       "    <tr>\n",
       "      <th>18</th>\n",
       "      <td>member</td>\n",
       "      <td>7</td>\n",
       "      <td>427442</td>\n",
       "      <td>408659.0</td>\n",
       "      <td>4.596253</td>\n",
       "    </tr>\n",
       "    <tr>\n",
       "      <th>19</th>\n",
       "      <td>member</td>\n",
       "      <td>8</td>\n",
       "      <td>436336</td>\n",
       "      <td>427442.0</td>\n",
       "      <td>2.080750</td>\n",
       "    </tr>\n",
       "    <tr>\n",
       "      <th>20</th>\n",
       "      <td>member</td>\n",
       "      <td>9</td>\n",
       "      <td>473477</td>\n",
       "      <td>436336.0</td>\n",
       "      <td>8.512018</td>\n",
       "    </tr>\n",
       "    <tr>\n",
       "      <th>21</th>\n",
       "      <td>member</td>\n",
       "      <td>10</td>\n",
       "      <td>359078</td>\n",
       "      <td>473477.0</td>\n",
       "      <td>-24.161469</td>\n",
       "    </tr>\n",
       "    <tr>\n",
       "      <th>22</th>\n",
       "      <td>member</td>\n",
       "      <td>11</td>\n",
       "      <td>263454</td>\n",
       "      <td>359078.0</td>\n",
       "      <td>-26.630426</td>\n",
       "    </tr>\n",
       "    <tr>\n",
       "      <th>23</th>\n",
       "      <td>member</td>\n",
       "      <td>12</td>\n",
       "      <td>171853</td>\n",
       "      <td>263454.0</td>\n",
       "      <td>-34.769258</td>\n",
       "    </tr>\n",
       "  </tbody>\n",
       "</table>\n",
       "</div>"
      ],
      "text/plain": [
       "   member_casual  month  ride_id  shift_count  percentage_of_difference\n",
       "0         casual      1    24123          NaN                       NaN\n",
       "1         casual      2    46455      24123.0                 92.575550\n",
       "2         casual      3    81286      46455.0                 74.977936\n",
       "3         casual      4   129562      81286.0                 59.390301\n",
       "4         casual      5   226484     129562.0                 74.807428\n",
       "5         casual      6   295580     226484.0                 30.508115\n",
       "6         casual      7   314573     295580.0                  6.425672\n",
       "7         casual      8   312978     314573.0                 -0.507037\n",
       "8         casual      9   342346     312978.0                  9.383407\n",
       "9         casual     10   174483     342346.0                -49.033142\n",
       "10        casual     11    97273     174483.0                -44.250729\n",
       "11        casual     12    51094      97273.0                -47.473605\n",
       "12        member      1   119626      51094.0                134.129252\n",
       "13        member      2   175376     119626.0                 46.603581\n",
       "14        member      3   218619     175376.0                 24.657308\n",
       "15        member      4   282540     218619.0                 29.238538\n",
       "16        member      5   377516     282540.0                 33.615063\n",
       "17        member      6   408659     377516.0                  8.249452\n",
       "18        member      7   427442     408659.0                  4.596253\n",
       "19        member      8   436336     427442.0                  2.080750\n",
       "20        member      9   473477     436336.0                  8.512018\n",
       "21        member     10   359078     473477.0                -24.161469\n",
       "22        member     11   263454     359078.0                -26.630426\n",
       "23        member     12   171853     263454.0                -34.769258"
      ]
     },
     "execution_count": 55,
     "metadata": {},
     "output_type": "execute_result"
    }
   ],
   "source": [
    "# month analysis\n",
    "ride_month = rides_df.groupby(['member_casual','month'])['ride_id'].count().reset_index()\n",
    "ride_month['shift_count'] = ride_month['ride_id'].shift(periods=1)\n",
    "ride_month['percentage_of_difference'] = (ride_month['ride_id']-ride_month['shift_count'])/ride_month['shift_count']*100\n",
    "ride_month"
   ]
  },
  {
   "cell_type": "code",
   "execution_count": 56,
   "id": "9aaf7e9d-e522-45a6-9aec-4912405cf0fe",
   "metadata": {},
   "outputs": [
    {
     "data": {
      "image/png": "[encoded data removed]",
      "text/plain": [
       "<Figure size 640x480 with 1 Axes>"
      ]
     },
     "metadata": {},
     "output_type": "display_data"
    }
   ],
   "source": [
    "sns.barplot(data=ride_month,x='month',y='ride_id',hue='member_casual',hue_order=['member','casual'],palette=colors)\n",
    "plt.xlabel(\"Month\")\n",
    "plt.ylabel(\"Number of Rides\")\n",
    "plt.title(\"Month Rides\")\n",
    "plt.show()"
   ]
  },
  {
   "cell_type": "code",
   "execution_count": 57,
   "id": "1bb62628-4144-48d2-a95c-7d7a0b3efc20",
   "metadata": {},
   "outputs": [
    {
     "data": {
      "text/html": [
       "<div>\n",
       "<style scoped>\n",
       "    .dataframe tbody tr th:only-of-type {\n",
       "        vertical-align: middle;\n",
       "    }\n",
       "\n",
       "    .dataframe tbody tr th {\n",
       "        vertical-align: top;\n",
       "    }\n",
       "\n",
       "    .dataframe thead th {\n",
       "        text-align: right;\n",
       "    }\n",
       "</style>\n",
       "<table border=\"1\" class=\"dataframe\">\n",
       "  <thead>\n",
       "    <tr style=\"text-align: right;\">\n",
       "      <th></th>\n",
       "      <th>member_casual</th>\n",
       "      <th>weekday</th>\n",
       "      <th>ride_id</th>\n",
       "      <th>weekday_num</th>\n",
       "    </tr>\n",
       "  </thead>\n",
       "  <tbody>\n",
       "    <tr>\n",
       "      <th>1</th>\n",
       "      <td>casual</td>\n",
       "      <td>Monday</td>\n",
       "      <td>250688</td>\n",
       "      <td>0</td>\n",
       "    </tr>\n",
       "    <tr>\n",
       "      <th>8</th>\n",
       "      <td>member</td>\n",
       "      <td>Monday</td>\n",
       "      <td>538955</td>\n",
       "      <td>0</td>\n",
       "    </tr>\n",
       "    <tr>\n",
       "      <th>5</th>\n",
       "      <td>casual</td>\n",
       "      <td>Tuesday</td>\n",
       "      <td>231310</td>\n",
       "      <td>1</td>\n",
       "    </tr>\n",
       "    <tr>\n",
       "      <th>12</th>\n",
       "      <td>member</td>\n",
       "      <td>Tuesday</td>\n",
       "      <td>569694</td>\n",
       "      <td>1</td>\n",
       "    </tr>\n",
       "    <tr>\n",
       "      <th>6</th>\n",
       "      <td>casual</td>\n",
       "      <td>Wednesday</td>\n",
       "      <td>267451</td>\n",
       "      <td>2</td>\n",
       "    </tr>\n",
       "    <tr>\n",
       "      <th>13</th>\n",
       "      <td>member</td>\n",
       "      <td>Wednesday</td>\n",
       "      <td>611692</td>\n",
       "      <td>2</td>\n",
       "    </tr>\n",
       "    <tr>\n",
       "      <th>4</th>\n",
       "      <td>casual</td>\n",
       "      <td>Thursday</td>\n",
       "      <td>264219</td>\n",
       "      <td>3</td>\n",
       "    </tr>\n",
       "    <tr>\n",
       "      <th>11</th>\n",
       "      <td>member</td>\n",
       "      <td>Thursday</td>\n",
       "      <td>582532</td>\n",
       "      <td>3</td>\n",
       "    </tr>\n",
       "    <tr>\n",
       "      <th>0</th>\n",
       "      <td>casual</td>\n",
       "      <td>Friday</td>\n",
       "      <td>301419</td>\n",
       "      <td>4</td>\n",
       "    </tr>\n",
       "    <tr>\n",
       "      <th>7</th>\n",
       "      <td>member</td>\n",
       "      <td>Friday</td>\n",
       "      <td>518692</td>\n",
       "      <td>4</td>\n",
       "    </tr>\n",
       "    <tr>\n",
       "      <th>2</th>\n",
       "      <td>casual</td>\n",
       "      <td>Saturday</td>\n",
       "      <td>422147</td>\n",
       "      <td>5</td>\n",
       "    </tr>\n",
       "    <tr>\n",
       "      <th>9</th>\n",
       "      <td>member</td>\n",
       "      <td>Saturday</td>\n",
       "      <td>471895</td>\n",
       "      <td>5</td>\n",
       "    </tr>\n",
       "    <tr>\n",
       "      <th>3</th>\n",
       "      <td>casual</td>\n",
       "      <td>Sunday</td>\n",
       "      <td>359003</td>\n",
       "      <td>6</td>\n",
       "    </tr>\n",
       "    <tr>\n",
       "      <th>10</th>\n",
       "      <td>member</td>\n",
       "      <td>Sunday</td>\n",
       "      <td>420516</td>\n",
       "      <td>6</td>\n",
       "    </tr>\n",
       "  </tbody>\n",
       "</table>\n",
       "</div>"
      ],
      "text/plain": [
       "   member_casual    weekday  ride_id  weekday_num\n",
       "1         casual     Monday   250688            0\n",
       "8         member     Monday   538955            0\n",
       "5         casual    Tuesday   231310            1\n",
       "12        member    Tuesday   569694            1\n",
       "6         casual  Wednesday   267451            2\n",
       "13        member  Wednesday   611692            2\n",
       "4         casual   Thursday   264219            3\n",
       "11        member   Thursday   582532            3\n",
       "0         casual     Friday   301419            4\n",
       "7         member     Friday   518692            4\n",
       "2         casual   Saturday   422147            5\n",
       "9         member   Saturday   471895            5\n",
       "3         casual     Sunday   359003            6\n",
       "10        member     Sunday   420516            6"
      ]
     },
     "execution_count": 57,
     "metadata": {},
     "output_type": "execute_result"
    }
   ],
   "source": [
    "# weekday analysis\n",
    "ride_weekday = rides_df.groupby(['member_casual','weekday'])['ride_id'].count().reset_index()\n",
    "\n",
    "# convert weekday names to numbers using the mapto sort the table\n",
    "weekday_map = {    'Monday': 0,\n",
    "    'Tuesday': 1,\n",
    "    'Wednesday': 2,\n",
    "    'Thursday': 3,\n",
    "    'Friday': 4,\n",
    "    'Saturday': 5,\n",
    "    'Sunday': 6\n",
    "}\n",
    "\n",
    "ride_weekday['weekday_num'] = ride_weekday['weekday'].map(weekday_map)\n",
    "ride_weekday = ride_weekday.sort_values(by='weekday_num')\n",
    "ride_weekday"
   ]
  },
  {
   "cell_type": "code",
   "execution_count": 58,
   "id": "c0f26f64-9fad-43a9-ab2d-974870f5702b",
   "metadata": {},
   "outputs": [
    {
     "name": "stdout",
     "output_type": "stream",
     "text": [
      "48.4977799947836\n",
      "-20.929431007260156\n"
     ]
    }
   ],
   "source": [
    "# avg weekdays vs. weekends\n",
    "c_weekend = (422147+359003)/2\n",
    "c_weekday = (2096237-422147-359003)/5\n",
    "m_weekend = (471895+420516)/2\n",
    "m_weekday = (3713976-471895-420516)/5 \n",
    "\n",
    "print((c_weekend-c_weekday)/c_weekday*100)\n",
    "print((m_weekend-m_weekday)/m_weekday*100)"
   ]
  },
  {
   "cell_type": "code",
   "execution_count": 59,
   "id": "d79d4d13-b64a-4806-a4e0-d213d08d12d4",
   "metadata": {},
   "outputs": [
    {
     "data": {
      "image/png": "[encoded data removed]",
      "text/plain": [
       "<Figure size 640x480 with 1 Axes>"
      ]
     },
     "metadata": {},
     "output_type": "display_data"
    }
   ],
   "source": [
    "sns.barplot(data=ride_weekday,x='weekday',y='ride_id',hue='member_casual',hue_order=['member','casual'],palette=colors)\n",
    "plt.xlabel(\"Weekday\")\n",
    "plt.ylabel(\"Number of Rides\")\n",
    "plt.title(\"Weekday Rides\")\n",
    "plt.show()"
   ]
  },
  {
   "cell_type": "markdown",
   "id": "cd80f604-e113-4313-9f6d-0d14cad3e6b2",
   "metadata": {},
   "source": [
    "## Station analysis"
   ]
  },
  {
   "cell_type": "code",
   "execution_count": 61,
   "id": "3b6dbb7b-ff93-47e3-a8bc-775750dd30c6",
   "metadata": {},
   "outputs": [],
   "source": [
    "member_df = rides_df[rides_df['member_casual']== 'member']\n",
    "casual_df = rides_df[rides_df['member_casual']== 'casual']"
   ]
  },
  {
   "cell_type": "code",
   "execution_count": 62,
   "id": "4e9a3f30-c9fe-4f2d-a258-e83a04e5007c",
   "metadata": {},
   "outputs": [
    {
     "name": "stdout",
     "output_type": "stream",
     "text": [
      "0.03571670899327298\n",
      "0.08785075351689718\n"
     ]
    }
   ],
   "source": [
    "print(sum(member_df['distance']==0)/3713976)\n",
    "print(sum(casual_df['distance']==0)/2096237)"
   ]
  },
  {
   "cell_type": "code",
   "execution_count": 63,
   "id": "3fa11513-ef29-422d-b52f-060f0561b588",
   "metadata": {},
   "outputs": [
    {
     "name": "stdout",
     "output_type": "stream",
     "text": [
      "1640\n",
      "1649\n"
     ]
    }
   ],
   "source": [
    "print(casual_df['start_station_name'].nunique())\n",
    "print(member_df['start_station_name'].nunique())"
   ]
  },
  {
   "cell_type": "code",
   "execution_count": 64,
   "id": "d61eaef9-00a6-491f-9d38-871e677dda57",
   "metadata": {},
   "outputs": [
    {
     "data": {
      "text/plain": [
       "start_station_name\n",
       "Streeter Dr & Grand Ave               47738\n",
       "DuSable Lake Shore Dr & Monroe St     31975\n",
       "Michigan Ave & Oak St                 23889\n",
       "DuSable Lake Shore Dr & North Blvd    22280\n",
       "Millennium Park                       20976\n",
       "Name: ride_id, dtype: int64"
      ]
     },
     "execution_count": 64,
     "metadata": {},
     "output_type": "execute_result"
    }
   ],
   "source": [
    "casual_df.groupby(['start_station_name'])['ride_id'].count().sort_values(ascending=False).head(5)"
   ]
  },
  {
   "cell_type": "code",
   "execution_count": 65,
   "id": "ff92dc16-7fb7-4b53-9c42-8343ea02a181",
   "metadata": {
    "scrolled": true
   },
   "outputs": [
    {
     "data": {
      "text/plain": [
       "start_station_name\n",
       "Kingsbury St & Kinzie St        28670\n",
       "Clinton St & Washington Blvd    28036\n",
       "Clark St & Elm St               24518\n",
       "Clinton St & Madison St         24422\n",
       "Wells St & Concord Ln           20738\n",
       "Name: ride_id, dtype: int64"
      ]
     },
     "execution_count": 65,
     "metadata": {},
     "output_type": "execute_result"
    }
   ],
   "source": [
    "member_df.groupby(['start_station_name'])['ride_id'].count().sort_values(ascending=False).head(5)"
   ]
  }
 ],
 "metadata": {
  "kernelspec": {
   "display_name": "Python 3 (ipykernel)",
   "language": "python",
   "name": "python3"
  },
  "language_info": {
   "codemirror_mode": {
    "name": "ipython",
    "version": 3
   },
   "file_extension": ".py",
   "mimetype": "text/x-python",
   "name": "python",
   "nbconvert_exporter": "python",
   "pygments_lexer": "ipython3",
   "version": "3.11.7"
  }
 },
 "nbformat": 4,
 "nbformat_minor": 5
}
